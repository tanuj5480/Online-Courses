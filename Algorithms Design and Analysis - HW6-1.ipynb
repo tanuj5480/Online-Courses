{
 "metadata": {
  "name": "",
  "signature": "sha256:969b68790778372d3fe3b2163dbff06049b8b3c5745d53d0b32420b66baff4c2"
 },
 "nbformat": 3,
 "nbformat_minor": 0,
 "worksheets": [
  {
   "cells": [
    {
     "cell_type": "code",
     "collapsed": false,
     "input": [
      "from math import log, floor, pow\n",
      "import numpy as np"
     ],
     "language": "python",
     "metadata": {},
     "outputs": [],
     "prompt_number": 12
    },
    {
     "cell_type": "code",
     "collapsed": false,
     "input": [
      "int(floor(log(3)))"
     ],
     "language": "python",
     "metadata": {},
     "outputs": [
      {
       "metadata": {},
       "output_type": "pyout",
       "prompt_number": 22,
       "text": [
        "1"
       ]
      }
     ],
     "prompt_number": 22
    },
    {
     "cell_type": "code",
     "collapsed": false,
     "input": [
      "def deleteMin(lst):\n",
      "    list_len = len(lst)\n",
      "    temp = lst[0]\n",
      "    for i in range( floor(log(list_len)) +1 ):\n",
      "        "
     ],
     "language": "python",
     "metadata": {},
     "outputs": []
    },
    {
     "cell_type": "code",
     "collapsed": false,
     "input": [
      "def swap(x, i,j):\n",
      "    temp = x[i]\n",
      "    x[i] = x[j]\n",
      "    x[j] = temp\n",
      "    return x\n",
      "\n",
      "def IsHeap(lst):\n",
      "    lst_len = len(lst)\n",
      "    for i in range( int(floor(log(lst_len)/log(2))) + 1):\n",
      "        if lst[i] > lst[2*i+1] or lst[i] > lst[2*i+2]:\n",
      "            return False\n",
      "    return True"
     ],
     "language": "python",
     "metadata": {},
     "outputs": [],
     "prompt_number": 73
    },
    {
     "cell_type": "code",
     "collapsed": false,
     "input": [
      "lst = [8114, -16271, 96576, 30413]"
     ],
     "language": "python",
     "metadata": {},
     "outputs": [],
     "prompt_number": 457
    },
    {
     "cell_type": "code",
     "collapsed": false,
     "input": [
      "int(11/2)"
     ],
     "language": "python",
     "metadata": {},
     "outputs": [
      {
       "metadata": {},
       "output_type": "pyout",
       "prompt_number": 455,
       "text": [
        "5"
       ]
      }
     ],
     "prompt_number": 455
    },
    {
     "cell_type": "code",
     "collapsed": false,
     "input": [
      "boggleDownMin(lst)"
     ],
     "language": "python",
     "metadata": {},
     "outputs": [
      {
       "metadata": {},
       "output_type": "pyout",
       "prompt_number": 458,
       "text": [
        "[-16271, 8114, 96576, 30413]"
       ]
      }
     ],
     "prompt_number": 458
    },
    {
     "cell_type": "code",
     "collapsed": false,
     "input": [
      "# to get the min on the top\n",
      "def boggleUpMin(lst):\n",
      "    lst_len = len(lst)\n",
      "    for i in range((lst_len-1),0,-1):\n",
      "        if i%2 == 0 and lst[i] < lst[(i-2)/2] :\n",
      "            swap(lst, i, (i-2)/2)\n",
      "        elif i%2 != 0 and lst[i] < lst[(i-1)/2]:\n",
      "            swap(lst, i, (i-1)/2)\n",
      "            \n",
      "    return lst\n"
     ],
     "language": "python",
     "metadata": {},
     "outputs": [],
     "prompt_number": 198
    },
    {
     "cell_type": "code",
     "collapsed": false,
     "input": [
      "# to get the max on the top\n",
      "def boggleUpMax(lst):\n",
      "    lst_len = len(lst)\n",
      "    for i in range((lst_len-1),0,-1):\n",
      "        if i%2 == 0 and lst[i] > lst[(i-2)/2] :\n",
      "            swap(lst, i, (i-2)/2)\n",
      "        elif i%2 != 0 and lst[i] > lst[(i-1)/2]:\n",
      "            swap(lst, i, (i-1)/2)\n",
      "            \n",
      "    return lst\n"
     ],
     "language": "python",
     "metadata": {},
     "outputs": [],
     "prompt_number": 301
    },
    {
     "cell_type": "code",
     "collapsed": false,
     "input": [
      "#get the min element at the top, i.e. a min heap\n",
      "def boggleDownMin(lst):\n",
      "    lst_len = len(lst)\n",
      "    if lst_len%2 == 0 and lst_len > 2:\n",
      "        for i in range((lst_len/2) - 1):\n",
      "            if lst[i] > lst[(2*i + 1)] or  lst[i] > lst[(2*i + 2)] :\n",
      "                min_compare = min(lst[(2*i + 1)], lst[(2*i + 2)])\n",
      "                swap(lst, i, lst.index(min_compare))\n",
      "        if lst[lst_len-1] < lst[(lst_len-1)/2]:\n",
      "            swap(lst, (lst_len-1), ((lst_len-1)/2))  \n",
      "    elif lst_len == 2 and lst[0] > lst[1] :\n",
      "        swap(lst, 0, 1)\n",
      "    elif lst_len%2 != 0:\n",
      "        for i in range(int(lst_len/2)):\n",
      "            if lst[i] > lst[(2*i + 1)] or  lst[i] > lst[(2*i + 2)] :\n",
      "                min_compare = min(lst[(2*i + 1)], lst[(2*i + 2)])\n",
      "                swap(lst, i, lst.index(min_compare))\n",
      "    return lst"
     ],
     "language": "python",
     "metadata": {},
     "outputs": [],
     "prompt_number": 456
    },
    {
     "cell_type": "code",
     "collapsed": false,
     "input": [
      "#get the max element at the top, i.e. a max heap\n",
      "def boggleDownMax(lst):\n",
      "    lst_len = len(lst)\n",
      "    if lst_len%2 == 0 and lst_len > 2:\n",
      "        for i in range((lst_len/2) - 1):\n",
      "            if lst[i] < lst[(2*i + 1)] or  lst[i] < lst[(2*i + 2)] :\n",
      "                max_compare = max(lst[(2*i + 1)], lst[(2*i + 2)])\n",
      "                swap(lst, i, lst.index(max_compare))\n",
      "        if lst[lst_len-1] > lst[(lst_len-1)/2]:\n",
      "            swap(lst, (lst_len-1), ((lst_len-1)/2))  \n",
      "    elif lst_len == 2 and lst[0] < lst[1]:\n",
      "        swap(lst, 0, 1)\n",
      "    elif lst_len%2 != 0 :\n",
      "        for i in range(int(lst_len/2)):\n",
      "            if lst[i] < lst[(2*i + 1)] or  lst[i] < lst[(2*i + 2)] :\n",
      "                max_compare = max(lst[(2*i + 1)], lst[(2*i + 2)])\n",
      "                swap(lst, i, lst.index(max_compare))\n",
      "    return lst\n"
     ],
     "language": "python",
     "metadata": {},
     "outputs": [],
     "prompt_number": 459
    },
    {
     "cell_type": "code",
     "collapsed": false,
     "input": [
      "def extractMin(lst):\n",
      "    len_lst = len(lst)\n",
      "    swap(lst, 0, (len_lst-1))\n",
      "    x = lst.pop()\n",
      "    boggleDownMin(lst)\n",
      "    \n",
      "    return x"
     ],
     "language": "python",
     "metadata": {},
     "outputs": [],
     "prompt_number": 223
    },
    {
     "cell_type": "code",
     "collapsed": false,
     "input": [
      "def extractMax(lst):\n",
      "    len_lst = len(lst)\n",
      "    swap(lst, 0, (len_lst-1))\n",
      "    x = lst.pop()\n",
      "    boggleDownMax(lst)\n",
      "    \n",
      "    return x"
     ],
     "language": "python",
     "metadata": {},
     "outputs": [],
     "prompt_number": 314
    },
    {
     "cell_type": "code",
     "collapsed": false,
     "input": [
      "lst_len = len(lst)\n",
      "if lst_len%2 == 0:\n",
      "    for i in range(int(log(lst_len)/log(2))):\n",
      "        print lst[i] ,lst[(2*i + 1)] , lst[(2*i + 2)]\n",
      "        \n",
      "    print lst[(lst_len-1)/2], lst[lst_len-1]\n",
      "else :\n",
      "    for i in range(int(log(lst_len)/log(2))):\n",
      "        print lst[i] ,lst[(2*i + 1)] , lst[(2*i + 2)]"
     ],
     "language": "python",
     "metadata": {},
     "outputs": [
      {
       "output_type": "stream",
       "stream": "stdout",
       "text": [
        "13 4 8\n",
        "4 9 4\n",
        "8 12 9\n",
        "9 11\n"
       ]
      }
     ],
     "prompt_number": 282
    },
    {
     "cell_type": "code",
     "collapsed": false,
     "input": [
      "def medianMaintenance (data):\n",
      "    min_heap = [] # arranged in such a way that the max element is on the top\n",
      "    max_heap = [] # arranged in such a way that the min element is on the top\n",
      "    median = []\n",
      "    min_heap.append(data[0])\n",
      "    median.append(data[0])\n",
      "    for elem in range(1,len(data)):\n",
      "        if data[elem] > min_heap[0]:\n",
      "            #min heap will have the max element on the top, when elem greater than min_heap[0], insert in max_heap\n",
      "            max_heap.append(data[elem])\n",
      "            #re-arrange to get the heap property right\n",
      "            boggleUpMin(max_heap)\n",
      "        else :\n",
      "            #since the element is not greater than the max of the min_heap, insert in min_heap \n",
      "            min_heap.append(data[elem])\n",
      "            #re-arrange to get the heap property right\n",
      "            boggleUpMax(min_heap)\n",
      "        \n",
      "        \n",
      "        if len(min_heap) - len(max_heap) > 1:\n",
      "            #remove top element from the min_heap to rebalance\n",
      "            new_elem = extractMax(min_heap)\n",
      "            #add the new element to the max_heap, to rebalance\n",
      "            max_heap.append(new_elem)\n",
      "            #maintain the heap property for the max_heap\n",
      "            boggleUpMin(max_heap)\n",
      "        \n",
      "        elif len(max_heap) - len(min_heap) > 1:\n",
      "            #remove top element from the max_heap to rebalance\n",
      "            new_elem = extractMin(max_heap)\n",
      "            #add the new element to the min_heap, to rebalance\n",
      "            min_heap.append(new_elem)\n",
      "            #maintain the heap property for the min_heap\n",
      "            boggleUpMax(min_heap)\n",
      "         \n",
      "        lenOfElemSorted = len(min_heap) + len(max_heap)\n",
      "        if lenOfElemSorted%2 == 0:\n",
      "            if lenOfElemSorted/2 <= len(min_heap):\n",
      "                median.append(min_heap[0])\n",
      "        elif lenOfElemSorted%2 != 0:\n",
      "            if (lenOfElemSorted+1)/2 <= len(min_heap):\n",
      "                median.append(min_heap[0])\n",
      "            elif (lenOfElemSorted+1)/2 > len(min_heap):\n",
      "                median.append(max_heap[0])\n",
      "    return median\n"
     ],
     "language": "python",
     "metadata": {},
     "outputs": [],
     "prompt_number": 470
    },
    {
     "cell_type": "code",
     "collapsed": false,
     "input": [
      "median = medianMaintenance(data)"
     ],
     "language": "python",
     "metadata": {},
     "outputs": [],
     "prompt_number": 471
    },
    {
     "cell_type": "code",
     "collapsed": false,
     "input": [
      "sm_median = 0\n",
      "for elem in median:\n",
      "    sm_median = sm_median + elem\n"
     ],
     "language": "python",
     "metadata": {},
     "outputs": [],
     "prompt_number": 472
    },
    {
     "cell_type": "code",
     "collapsed": false,
     "input": [
      "(sm_median)%10000"
     ],
     "language": "python",
     "metadata": {},
     "outputs": [
      {
       "metadata": {},
       "output_type": "pyout",
       "prompt_number": 473,
       "text": [
        "8687"
       ]
      }
     ],
     "prompt_number": 473
    },
    {
     "cell_type": "code",
     "collapsed": false,
     "input": [
      "(32184 +8684 -25835 -25580)"
     ],
     "language": "python",
     "metadata": {},
     "outputs": [
      {
       "metadata": {},
       "output_type": "pyout",
       "prompt_number": 425,
       "text": [
        "-10547"
       ]
      }
     ],
     "prompt_number": 425
    },
    {
     "cell_type": "code",
     "collapsed": false,
     "input": [
      "sm_median%10000 "
     ],
     "language": "python",
     "metadata": {},
     "outputs": [
      {
       "metadata": {},
       "output_type": "pyout",
       "prompt_number": 422,
       "text": [
        "3071"
       ]
      }
     ],
     "prompt_number": 422
    },
    {
     "cell_type": "code",
     "collapsed": false,
     "input": [
      "cd Desktop/Tanuj/Coursera/Design of Algos-Stanford/HW6/Problem2"
     ],
     "language": "python",
     "metadata": {},
     "outputs": [
      {
       "output_type": "stream",
       "stream": "stdout",
       "text": [
        "/Users/tanujpandey/Desktop/Tanuj/Coursera/Design of Algos-Stanford/HW6/Problem2\n"
       ]
      }
     ],
     "prompt_number": 475
    },
    {
     "cell_type": "code",
     "collapsed": false,
     "input": [
      "import csv as csv\n",
      "import numpy as np\n",
      "\n",
      "csv_file_object = csv.reader(open('Median.txt', 'rb'), delimiter='\\t')\n"
     ],
     "language": "python",
     "metadata": {},
     "outputs": [],
     "prompt_number": 476
    },
    {
     "cell_type": "code",
     "collapsed": false,
     "input": [
      "data = []\n",
      "\n",
      "for row in csv_file_object:\n",
      "    data.append((row))\n"
     ],
     "language": "python",
     "metadata": {},
     "outputs": [],
     "prompt_number": 477
    },
    {
     "cell_type": "code",
     "collapsed": false,
     "input": [
      "new_G = []\n",
      "for elem in data:\n",
      "    for i in range(len(elem)):\n",
      "        new_G.append(int(elem[i]))"
     ],
     "language": "python",
     "metadata": {},
     "outputs": [],
     "prompt_number": 488
    },
    {
     "cell_type": "code",
     "collapsed": false,
     "input": [
      "median = medianMaintenance(new_G)"
     ],
     "language": "python",
     "metadata": {},
     "outputs": [],
     "prompt_number": 490
    },
    {
     "cell_type": "code",
     "collapsed": false,
     "input": [
      "sm_median = 0\n",
      "for elem in median:\n",
      "    sm_median = sm_median + elem"
     ],
     "language": "python",
     "metadata": {},
     "outputs": [],
     "prompt_number": 491
    },
    {
     "cell_type": "code",
     "collapsed": false,
     "input": [
      "(sm_median)%10000"
     ],
     "language": "python",
     "metadata": {},
     "outputs": [
      {
       "metadata": {},
       "output_type": "pyout",
       "prompt_number": 492,
       "text": [
        "1213"
       ]
      }
     ],
     "prompt_number": 492
    },
    {
     "cell_type": "code",
     "collapsed": false,
     "input": [],
     "language": "python",
     "metadata": {},
     "outputs": []
    }
   ],
   "metadata": {}
  }
 ]
}