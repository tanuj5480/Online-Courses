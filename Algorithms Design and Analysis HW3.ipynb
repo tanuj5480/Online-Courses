{
 "metadata": {
  "name": "",
  "signature": "sha256:15a77237d2cb62d8683b38b37a0951de23e7d0bc27402db696251fa3a5bc0bb4"
 },
 "nbformat": 3,
 "nbformat_minor": 0,
 "worksheets": [
  {
   "cells": [
    {
     "cell_type": "code",
     "collapsed": false,
     "input": [
      "from random import randrange\n",
      "\n",
      "def rndm_select_edge(G):\n",
      "    #randomly select an edge from the graph to perform contraction on\n",
      "    rand_select_edge = randrange(len(G))\n",
      "    \n",
      "    rndmly_selected_edge = G[rand_select_edge-1]\n",
      "    first_vertex = rndmly_selected_edge[0]\n",
      "    second_vertex = rndmly_selected_edge[randrange(1, len(rndmly_selected_edge))]\n",
      "    rand_select_edge = [first_vertex, second_vertex]\n",
      "    \n",
      "    return rand_select_edge"
     ],
     "language": "python",
     "metadata": {},
     "outputs": [],
     "prompt_number": 324
    },
    {
     "cell_type": "code",
     "collapsed": false,
     "input": [
      "def merge(t, u):\n",
      "#merge the nodes that will be used for contraction algo\n",
      "    new_array = []\n",
      "    new_array.append(t[0])\n",
      "    for i in range(1, len(t)):\n",
      "        if t[i] != t[0] and t[i] != u[0]:\n",
      "            new_array.append(t[i])\n",
      "\n",
      "    for j in range(len(u)):\n",
      "        if u[j] != u[0] and u[j] != new_array[0]:\n",
      "            new_array.append(u[j])\n",
      "            \n",
      "\n",
      "    return new_array"
     ],
     "language": "python",
     "metadata": {},
     "outputs": [],
     "prompt_number": 352
    },
    {
     "cell_type": "code",
     "collapsed": false,
     "input": [
      "def contraction(G):\n",
      "    \n",
      "    new_G = G\n",
      "    random_edge = rndm_select_edge(new_G)\n",
      "    \n",
      "    #to merge the elements that were selected as past of the random edge selection\n",
      "    to_merge = []\n",
      "    \n",
      "    for elem in new_G:\n",
      "        for i in range(len(random_edge)):\n",
      "            if elem[0] == random_edge[i]:\n",
      "                to_merge.append(elem)\n",
      "    \n",
      "    #elements to combine in the new graph which are not a part of the merge\n",
      "    not_to_merge = []\n",
      "\n",
      "    for elem in new_G:\n",
      "        if elem not in to_merge:\n",
      "            not_to_merge.append(elem)\n",
      "    \n",
      "    from copy import deepcopy\n",
      "    new_nt_merge = deepcopy(not_to_merge)\n",
      "\n",
      "    for elem in new_nt_merge:\n",
      "        for i in range(len(elem)):\n",
      "            if elem[i] == to_merge[1][0]:\n",
      "                elem[i] = to_merge[0][0]        \n",
      "    \n",
      "    new_G2 = [merge(to_merge[0], to_merge[1])] + new_nt_merge\n",
      "    \n",
      "    return new_G2"
     ],
     "language": "python",
     "metadata": {},
     "outputs": [],
     "prompt_number": 889
    },
    {
     "cell_type": "code",
     "collapsed": false,
     "input": [
      "def mincut(G):\n",
      "    iters = 300\n",
      "    cut = []\n",
      "    for i in range(iters):\n",
      "        new_G = G\n",
      "        while (len(new_G) > 2):\n",
      "            new_G2 = contraction(new_G)\n",
      "            new_G = new_G2\n",
      "         \n",
      "        cut.append(len(new_G[0]) - 1)\n",
      "    \n",
      "    return min(cut)\n"
     ],
     "language": "python",
     "metadata": {},
     "outputs": [],
     "prompt_number": 918
    },
    {
     "cell_type": "code",
     "collapsed": false,
     "input": [
      "cd Desktop/Tanuj/Coursera\n",
      "cd Design of Algos-Stanford/HW3"
     ],
     "language": "python",
     "metadata": {},
     "outputs": [
      {
       "output_type": "stream",
       "stream": "stdout",
       "text": [
        "/Users/tanujpandey/Desktop/Tanuj/Coursera\n"
       ]
      }
     ],
     "prompt_number": 620
    },
    {
     "cell_type": "code",
     "collapsed": false,
     "input": [
      "import csv as csv\n",
      "import numpy as np\n",
      "\n",
      "csv_file_object = csv.reader(open('kargerMinCut.txt', 'rb'), delimiter='\\t')\n"
     ],
     "language": "python",
     "metadata": {},
     "outputs": [],
     "prompt_number": 665
    },
    {
     "cell_type": "code",
     "collapsed": false,
     "input": [
      "data = []\n",
      "\n",
      "for row in csv_file_object:\n",
      "    data.append((row))\n"
     ],
     "language": "python",
     "metadata": {},
     "outputs": [],
     "prompt_number": 666
    },
    {
     "cell_type": "code",
     "collapsed": false,
     "input": [
      "lst = []\n",
      "final = []\n",
      "\n",
      "#each row as a space in the end, so the next step will get rid of it\n",
      "\n",
      "for elem in data:\n",
      "    final.append(elem[:(len(elem)-1)])        "
     ],
     "language": "python",
     "metadata": {},
     "outputs": [],
     "prompt_number": 687
    },
    {
     "cell_type": "code",
     "collapsed": false,
     "input": [
      "#converting the list of strings to int\n",
      "new_final = [[int(i) for i in row] for row in final]"
     ],
     "language": "python",
     "metadata": {},
     "outputs": [],
     "prompt_number": 695
    },
    {
     "cell_type": "code",
     "collapsed": false,
     "input": [
      "G"
     ],
     "language": "python",
     "metadata": {},
     "outputs": [
      {
       "metadata": {},
       "output_type": "pyout",
       "prompt_number": 704,
       "text": [
        "[[1, 2, 3], [2, 1, 3, 4], [3, 1, 2, 4], [4, 2, 3]]"
       ]
      }
     ],
     "prompt_number": 704
    },
    {
     "cell_type": "code",
     "collapsed": false,
     "input": [
      "#Final answer to the mincut problem\n",
      "\n",
      "mincut(new_final)"
     ],
     "language": "python",
     "metadata": {},
     "outputs": [
      {
       "metadata": {},
       "output_type": "pyout",
       "prompt_number": 919,
       "text": [
        "17"
       ]
      }
     ],
     "prompt_number": 919
    },
    {
     "cell_type": "code",
     "collapsed": false,
     "input": [],
     "language": "python",
     "metadata": {},
     "outputs": []
    }
   ],
   "metadata": {}
  }
 ]
}