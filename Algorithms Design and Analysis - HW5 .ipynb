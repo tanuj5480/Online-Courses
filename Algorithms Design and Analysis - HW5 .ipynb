{
 "metadata": {
  "name": "",
  "signature": "sha256:94a59c3939a7e34f60deab2be8774bbb7da634c825d64cb0c60671a678c145cf"
 },
 "nbformat": 3,
 "nbformat_minor": 0,
 "worksheets": [
  {
   "cells": [
    {
     "cell_type": "code",
     "collapsed": false,
     "input": [
      "X = []\n",
      "A = [] #to compute shortest path distances\n",
      "B = [] #computed shortest path\n",
      "V = range(1,201)"
     ],
     "language": "python",
     "metadata": {},
     "outputs": [],
     "prompt_number": 137
    },
    {
     "cell_type": "code",
     "collapsed": false,
     "input": [
      "X.append(1)\n",
      "A.append(0)"
     ],
     "language": "python",
     "metadata": {},
     "outputs": [],
     "prompt_number": 138
    },
    {
     "cell_type": "code",
     "collapsed": false,
     "input": [
      "while len(X) != len(V):\n",
      "    minmum = []\n",
      "    for elem in final:\n",
      "        if elem[0] in X and elem[1] not in X:\n",
      "            minmum.append(A[X.index(elem[0])] + elem[2])\n",
      "\n",
      "    x = min(minmum)\n",
      "    \n",
      "    for elem in final:\n",
      "        if elem[0] in X and elem[1] not in X and (A[X.index(elem[0])] + elem[2]) == x:\n",
      "            X.append(elem[1])\n",
      "            A.append(x)\n"
     ],
     "language": "python",
     "metadata": {},
     "outputs": [],
     "prompt_number": 139
    },
    {
     "cell_type": "code",
     "collapsed": false,
     "input": [
      "output = []\n",
      "for i in range(len(X)):\n",
      "    output.append([X[i], A[i]])"
     ],
     "language": "python",
     "metadata": {},
     "outputs": [],
     "prompt_number": 141
    },
    {
     "cell_type": "code",
     "collapsed": false,
     "input": [
      "result = [7,37,59,82,99,115,133,165,188,197]\n",
      "\n",
      "for elem in output:\n",
      "    for i in range(len(result)):\n",
      "        if elem[0] == result[i]:\n",
      "            print elem"
     ],
     "language": "python",
     "metadata": {},
     "outputs": [
      {
       "output_type": "stream",
       "stream": "stdout",
       "text": [
        "[133, 2029]\n",
        "[82, 2052]\n",
        "[99, 2367]\n",
        "[115, 2399]\n",
        "[165, 2442]\n",
        "[188, 2505]\n",
        "[7, 2599]\n",
        "[37, 2610]\n",
        "[59, 2947]\n",
        "[197, 3068]\n"
       ]
      }
     ],
     "prompt_number": 146
    },
    {
     "cell_type": "code",
     "collapsed": false,
     "input": [
      "import csv as csv\n",
      "import numpy as np\n",
      "\n",
      "csv_file_object = csv.reader(open('dijkstraData.txt', 'rb'), delimiter='\\t')\n"
     ],
     "language": "python",
     "metadata": {},
     "outputs": [],
     "prompt_number": 38
    },
    {
     "cell_type": "code",
     "collapsed": false,
     "input": [
      "data = []\n",
      "\n",
      "for row in csv_file_object:\n",
      "    data.append((row))\n"
     ],
     "language": "python",
     "metadata": {},
     "outputs": [],
     "prompt_number": 39
    },
    {
     "cell_type": "code",
     "collapsed": false,
     "input": [
      "new_G = []\n",
      "for elem in data:\n",
      "    for i in range(1,(len(elem)-1)):\n",
      "        new_G.append([elem[0], elem[i]])"
     ],
     "language": "python",
     "metadata": {},
     "outputs": [],
     "prompt_number": 45
    },
    {
     "cell_type": "code",
     "collapsed": false,
     "input": [
      "cd Design of Algos-Stanford/HW5"
     ],
     "language": "python",
     "metadata": {},
     "outputs": [
      {
       "output_type": "stream",
       "stream": "stdout",
       "text": [
        "/Users/tanujpandey/Desktop/Tanuj/Coursera/Design of Algos-Stanford/HW5\n"
       ]
      }
     ],
     "prompt_number": 35
    },
    {
     "cell_type": "code",
     "collapsed": false,
     "input": [
      "test = []\n",
      "for row in new_G:\n",
      "    textnew = row[1].split(\",\")\n",
      "    test.append(textnew)\n"
     ],
     "language": "python",
     "metadata": {},
     "outputs": [],
     "prompt_number": 67
    },
    {
     "cell_type": "code",
     "collapsed": false,
     "input": [
      "datasetForDA = []\n",
      "\n",
      "for i in range(len(new_G)):\n",
      "    datasetForDA.append([new_G[i][0], test[i][0],test[i][1]])"
     ],
     "language": "python",
     "metadata": {},
     "outputs": [],
     "prompt_number": 69
    },
    {
     "cell_type": "code",
     "collapsed": false,
     "input": [
      "final = []\n",
      "final = [[int(i) for i in row] for row in datasetForDA]"
     ],
     "language": "python",
     "metadata": {},
     "outputs": [],
     "prompt_number": 71
    }
   ],
   "metadata": {}
  }
 ]
}