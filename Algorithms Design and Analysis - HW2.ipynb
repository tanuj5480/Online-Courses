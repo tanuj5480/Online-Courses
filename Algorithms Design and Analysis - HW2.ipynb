{
 "metadata": {
  "name": "",
  "signature": "sha256:b7191ce11e8afbeb572d34c941ead3606d30878afad901e39660bc44b6718d3b"
 },
 "nbformat": 3,
 "nbformat_minor": 0,
 "worksheets": [
  {
   "cells": [
    {
     "cell_type": "code",
     "collapsed": false,
     "input": [
      "def swap(x, i,j):\n",
      "    temp = x[i]\n",
      "    x[i] = x[j]\n",
      "    x[j] = temp\n",
      "    return x\n",
      "    \n",
      "#partition using the first element\n",
      "def partition(x, l, r):\n",
      "    pivot = x[l]\n",
      "    i = l+1; j = l+1\n",
      "    for j in range(l+1, r):\n",
      "        if (x[j] < pivot) and (j > i):\n",
      "            swap(x, i ,j)\n",
      "            i = i+1\n",
      "        elif x[j] < pivot and j <= i:\n",
      "            i = i+1\n",
      "        elif (x[j] < pivot) and (x[i] > pivot):\n",
      "            swap(x, j, i)\n",
      "            i = i+1\n",
      "    swap(x, 0,(i-1))\n",
      "    return x\n",
      "\n",
      "#partition using the last element, by swaping it with the first element\n",
      "def partition2(x, l, r):\n",
      "    swap(x, 0, (len(x)-1))\n",
      "    pivot = x[l]\n",
      "    i = l+1; j = l+1\n",
      "    for j in range(l+1, r):\n",
      "        if (x[j] < pivot) and (j > i):\n",
      "            swap(x, i ,j)\n",
      "            i = i+1\n",
      "        elif x[j] < pivot and j <= i:\n",
      "            i = i+1\n",
      "        elif (x[j] < pivot) and (x[i] > pivot):\n",
      "            swap(x, j, i)\n",
      "            i = i+1\n",
      "    swap(x, 0,(i-1))\n",
      "    return x\n",
      "\n",
      "\n",
      "#returning the median\n",
      "def median(x):\n",
      "    \n",
      "    median_list = []\n",
      "    median_list.append(x[0])\n",
      "    median_list.append(x[(len(x) - 1)])\n",
      "\n",
      "    if len(x)%2 != 0:\n",
      "        median_list.append(x[(len(x)-1)/2])\n",
      "    elif len(x)%2 == 0:\n",
      "        median_list.append(x[((len(x))/2 - 1)])\n",
      "\n",
      "    \n",
      "    x_max = max(median_list)\n",
      "    x_min = min(median_list)\n",
      "    for i in range(len(median_list)):\n",
      "        if median_list[i] > x_min  and median_list[i] < x_max:\n",
      "            return median_list[i]\n",
      "\n",
      "        \n",
      "#partition using the median element, by swaping it with the first element\n",
      "def partition3(x, l, r):\n",
      "    \n",
      "    #based on the length of the list, deciding on the median element\n",
      "    if len(x) < 3:\n",
      "        return partition(x, 0, len(x))\n",
      "    elif len(x) >= 3:\n",
      "        pivot_location = x.index(median(x))\n",
      "        swap(x, 0, pivot_location)\n",
      "        pivot = x[0]\n",
      "\n",
      "        i = l+1; j = l+1\n",
      "        for j in range(l+1, r):\n",
      "            if (x[j] < pivot) and (j > i):\n",
      "                swap(x, i ,j)\n",
      "                i = i+1\n",
      "            elif x[j] < pivot and j <= i:\n",
      "                i = i+1\n",
      "            elif (x[j] < pivot) and (x[i] > pivot):\n",
      "                swap(x, j, i)\n",
      "                i = i+1\n",
      "        swap(x, 0,(i-1))\n",
      "        return x\n"
     ],
     "language": "python",
     "metadata": {},
     "outputs": [],
     "prompt_number": 1
    },
    {
     "cell_type": "code",
     "collapsed": false,
     "input": [
      "x = [8,3,2,5,4,1,7,6]\n",
      "partition3(x,0,len(x))"
     ],
     "language": "python",
     "metadata": {},
     "outputs": [
      {
       "metadata": {},
       "output_type": "pyout",
       "prompt_number": 204,
       "text": [
        "[1, 3, 2, 5, 4, 6, 7, 8]"
       ]
      }
     ],
     "prompt_number": 204
    },
    {
     "cell_type": "code",
     "collapsed": false,
     "input": [
      "# QS that will apply on first element select and the last element select\n",
      "def quicksort(x):\n",
      "    if len(x) == 1:\n",
      "        x.append(0)\n",
      "    elif len(x) > 1:\n",
      "        comparisons = x[1]    \n",
      "        \n",
      "    if len(x[0]) <= 1:\n",
      "        return x\n",
      "    elif len(x[0]) == 2 :\n",
      "        return [(partition2(x[0],0,len(x[0]))), (1)]\n",
      "    elif len(x[0]) >= 3 :\n",
      "        part_var = x[0][(len(x[0]) - 1)]\n",
      "        new_x = partition2(x[0],0,len(x[0]))\n",
      "        init_split = new_x.index(part_var)\n",
      "        first_half = [new_x[:init_split]]\n",
      "        second_half = [new_x[(init_split+1):]]\n",
      "        comparisons = len(x[0]) - 1\n",
      "        fh_qs = quicksort(first_half)\n",
      "        sh_qs = quicksort(second_half)                \n",
      "        \n",
      "        if len(fh_qs) > 1 and len(sh_qs) > 1:\n",
      "            return [(fh_qs[0] + [part_var] + sh_qs[0]), (comparisons + fh_qs[1] + sh_qs[1])]\n",
      "        elif len(fh_qs) == 1 and len(sh_qs) > 1:\n",
      "            return [(fh_qs[0] + [part_var] + sh_qs[0]), (comparisons + sh_qs[1])]\n",
      "        elif len(fh_qs) > 1 and len(sh_qs) == 1:\n",
      "            return [(fh_qs[0] + [part_var] + sh_qs[0]), (comparisons + fh_qs[1])]\n",
      "        elif len(fh_qs) == 1 and len(sh_qs) == 1:\n",
      "            return [(fh_qs[0] + [part_var] + sh_qs[0]), (comparisons)]\n",
      "        "
     ],
     "language": "python",
     "metadata": {},
     "outputs": [],
     "prompt_number": 2
    },
    {
     "cell_type": "code",
     "collapsed": false,
     "input": [
      "#QS for the element selected using the median element calculation\n",
      "def quicksort2(x):\n",
      "    if len(x) == 1:\n",
      "        x.append(0)\n",
      "    elif len(x) > 1:\n",
      "        comparisons = x[1]    \n",
      "        \n",
      "    if len(x[0]) <= 1:\n",
      "        return x\n",
      "    elif len(x[0]) == 2 :\n",
      "        return [(partition3(x[0],0,len(x[0]))), (1)]\n",
      "    elif len(x[0]) >= 3 :\n",
      "        \n",
      "        #partition element selected using the median here \n",
      "        \n",
      "        part_var = median(x[0])\n",
      "        \n",
      "       # part_var = x[0][len(x) - 1]\n",
      "        new_x = partition3(x[0],0,len(x[0]))\n",
      "        init_split = new_x.index(part_var)\n",
      "        first_half = [new_x[:init_split]]\n",
      "        second_half = [new_x[(init_split+1):]]\n",
      "        comparisons = len(x[0]) - 1\n",
      "        fh_qs = quicksort2(first_half)\n",
      "        sh_qs = quicksort2(second_half)                \n",
      "        \n",
      "        if len(fh_qs) > 1 and len(sh_qs) > 1:\n",
      "            return [(fh_qs[0] + [part_var] + sh_qs[0]), (comparisons + fh_qs[1] + sh_qs[1])]\n",
      "        elif len(fh_qs) == 1 and len(sh_qs) > 1:\n",
      "            return [(fh_qs[0] + [part_var] + sh_qs[0]), (comparisons + sh_qs[1])]\n",
      "        elif len(fh_qs) > 1 and len(sh_qs) == 1:\n",
      "            return [(fh_qs[0] + [part_var] + sh_qs[0]), (comparisons + fh_qs[1])]\n",
      "        elif len(fh_qs) == 1 and len(sh_qs) == 1:\n",
      "            return [(fh_qs[0] + [part_var] + sh_qs[0]), (comparisons)]\n",
      "        "
     ],
     "language": "python",
     "metadata": {},
     "outputs": [],
     "prompt_number": 13
    },
    {
     "cell_type": "code",
     "collapsed": false,
     "input": [
      "x = [[3,9,8,4,6,10,2,5,7,1]]\n",
      "\n",
      "part_var = median(x[0])\n",
      "new_x = partition3(x[0],0,len(x[0]))\n",
      "init_split = new_x.index(part_var)\n",
      "first_half = [new_x[:init_split]]\n",
      "second_half = [new_x[(init_split+1):]]\n",
      "comparisons = len(x[0]) - 1\n",
      "#fh_qs = quicksort2(first_half)\n"
     ],
     "language": "python",
     "metadata": {},
     "outputs": [],
     "prompt_number": 266
    },
    {
     "cell_type": "code",
     "collapsed": false,
     "input": [
      "#first_half = [new_x[:init_split]]\n",
      "#first_half\n",
      "#sh_qs = quicksort2(second_half)\n",
      "second_half"
     ],
     "language": "python",
     "metadata": {},
     "outputs": [
      {
       "metadata": {},
       "output_type": "pyout",
       "prompt_number": 269,
       "text": [
        "[[4, 6, 5, 7, 8, 9, 10], 0]"
       ]
      }
     ],
     "prompt_number": 269
    },
    {
     "cell_type": "code",
     "collapsed": false,
     "input": [
      "x = [[3,9,8,4,6,10,2,5,7,1]]\n",
      "quicksort2(x)"
     ],
     "language": "python",
     "metadata": {},
     "outputs": [
      {
       "metadata": {},
       "output_type": "pyout",
       "prompt_number": 327,
       "text": [
        "[[1, 2, 3, 4, 5, 6, 7, 8, 9, 10], 21]"
       ]
      }
     ],
     "prompt_number": 327
    },
    {
     "cell_type": "code",
     "collapsed": false,
     "input": [
      "x = [2,1,5]\n",
      "partition(x, 0, len(x))"
     ],
     "language": "python",
     "metadata": {},
     "outputs": [
      {
       "metadata": {},
       "output_type": "pyout",
       "prompt_number": 320,
       "text": [
        "[1, 2, 5]"
       ]
      }
     ],
     "prompt_number": 320
    },
    {
     "cell_type": "code",
     "collapsed": false,
     "input": [
      "x = [[20, 30, 1]]\n",
      "part_var = x[0]\n",
      "new_x = partition(x,0,len(x))    \n",
      "init_split = new_x.index(part_var)        \n",
      "first_half = new_x[:init_split]\n",
      "second_half = new_x[(init_split+1):]\n",
      "        #len(c[0])\n",
      "first_half + [part_val] + second_half"
     ],
     "language": "python",
     "metadata": {},
     "outputs": [
      {
       "metadata": {},
       "output_type": "pyout",
       "prompt_number": 33,
       "text": [
        "[1, 5, 8, 10, 3, 30]"
       ]
      }
     ],
     "prompt_number": 33
    },
    {
     "cell_type": "code",
     "collapsed": false,
     "input": [
      "x = [[20, 30, 9,1, 4,  10]]\n",
      "\n",
      "part_var = x[0][0]\n",
      "new_x = partition(x[0],0,len(x[0]))\n",
      "init_split = new_x.index(part_var)\n",
      "first_half = [new_x[:init_split]]\n",
      "second_half = [new_x[(init_split+1):]]\n",
      "        \n",
      "partition(first_half[0], 0, len(first_half[0]))\n"
     ],
     "language": "python",
     "metadata": {},
     "outputs": [
      {
       "metadata": {},
       "output_type": "pyout",
       "prompt_number": 40,
       "text": [
        "[1, 4, 9, 10]"
       ]
      }
     ],
     "prompt_number": 40
    },
    {
     "cell_type": "code",
     "collapsed": false,
     "input": [
      "x = [[]]\n",
      "len(x[0])"
     ],
     "language": "python",
     "metadata": {},
     "outputs": [
      {
       "metadata": {},
       "output_type": "pyout",
       "prompt_number": 108,
       "text": [
        "0"
       ]
      }
     ],
     "prompt_number": 108
    },
    {
     "cell_type": "code",
     "collapsed": false,
     "input": [
      "a = [8,7,1,5,9,2]\n",
      "partition(a, 0, len(a))"
     ],
     "language": "python",
     "metadata": {},
     "outputs": [
      {
       "metadata": {},
       "output_type": "pyout",
       "prompt_number": 75,
       "text": [
        "[7, 1, 5, 2, 8, 9]"
       ]
      }
     ],
     "prompt_number": 75
    },
    {
     "cell_type": "code",
     "collapsed": false,
     "input": [
      "x"
     ],
     "language": "python",
     "metadata": {},
     "outputs": [
      {
       "metadata": {},
       "output_type": "pyout",
       "prompt_number": 150,
       "text": [
        "[[7, 5, 1, 4, 8, 3, 2, 6, 9, 10], 0]"
       ]
      }
     ],
     "prompt_number": 150
    },
    {
     "cell_type": "code",
     "collapsed": false,
     "input": [
      "a=x[0]"
     ],
     "language": "python",
     "metadata": {},
     "outputs": [],
     "prompt_number": 151
    },
    {
     "cell_type": "code",
     "collapsed": false,
     "input": [
      "median_list = []\n",
      "median_list.append(a[0])\n",
      "median_list.append(a[(len(a) - 1)])\n",
      "    \n",
      "if len(a)%2 != 0:\n",
      "    median_list.append(a[(len(a)-1)/2])\n",
      "elif len(a)%2 == 0:\n",
      "    median_list.append(a[len(a)/2])"
     ],
     "language": "python",
     "metadata": {},
     "outputs": [],
     "prompt_number": 161
    },
    {
     "cell_type": "code",
     "collapsed": false,
     "input": [
      "median_list"
     ],
     "language": "python",
     "metadata": {},
     "outputs": [
      {
       "metadata": {},
       "output_type": "pyout",
       "prompt_number": 162,
       "text": [
        "[7, 10, 3]"
       ]
      }
     ],
     "prompt_number": 162
    },
    {
     "cell_type": "code",
     "collapsed": false,
     "input": [
      "pwd\n",
      "cd Desktop/Tanuj/Coursera"
     ],
     "language": "python",
     "metadata": {},
     "outputs": [
      {
       "metadata": {},
       "output_type": "pyout",
       "prompt_number": 270,
       "text": [
        "u'/Users/tanujpandey'"
       ]
      }
     ],
     "prompt_number": 270
    },
    {
     "cell_type": "code",
     "collapsed": false,
     "input": [
      "ls\n"
     ],
     "language": "python",
     "metadata": {},
     "outputs": [
      {
       "output_type": "stream",
       "stream": "stdout",
       "text": [
        "\u001b[34mAlgorithms-1\u001b[m\u001b[m/             \u001b[34mAssetPricing-Jan2015\u001b[m\u001b[m/     \u001b[34mComputational Investing\u001b[m\u001b[m/  \u001b[34mJava\u001b[m\u001b[m/\r\n",
        "\u001b[34mAlgorithms-2\u001b[m\u001b[m/             \u001b[34mAssetPricing2\u001b[m\u001b[m/            \u001b[34mDesign of Algos-Stanford\u001b[m\u001b[m/ \u001b[34mMachine Learning\u001b[m\u001b[m/\r\n"
       ]
      }
     ],
     "prompt_number": 272
    },
    {
     "cell_type": "code",
     "collapsed": false,
     "input": [
      "cd Design of Algos-Stanford/HW2"
     ],
     "language": "python",
     "metadata": {},
     "outputs": [
      {
       "output_type": "stream",
       "stream": "stdout",
       "text": [
        "[Errno 2] No such file or directory: 'Design of Algos-Stanford/HW2'\n",
        "/Users/tanujpandey/Desktop/Tanuj/Coursera/Design of Algos-Stanford/HW2\n"
       ]
      }
     ],
     "prompt_number": 275
    },
    {
     "cell_type": "code",
     "collapsed": false,
     "input": [
      "import numpy as np\n",
      "import csv as csv\n",
      "\n",
      "csv_file_object = csv.reader(open('QuickSort.txt', 'rb'))\n"
     ],
     "language": "python",
     "metadata": {},
     "outputs": [],
     "prompt_number": 361
    },
    {
     "cell_type": "code",
     "collapsed": false,
     "input": [
      "data = []\n",
      "for row in csv_file_object:\n",
      "    data.append(row)\n",
      "\n",
      "data = np.array(data)"
     ],
     "language": "python",
     "metadata": {},
     "outputs": [],
     "prompt_number": 362
    },
    {
     "cell_type": "code",
     "collapsed": false,
     "input": [
      "len(data)\n",
      "lst = []\n",
      "for i in range(len(data)):\n",
      "    lst.append(data[i][0].astype(np.int))"
     ],
     "language": "python",
     "metadata": {},
     "outputs": [],
     "prompt_number": 363
    },
    {
     "cell_type": "code",
     "collapsed": false,
     "input": [
      "x = [lst]"
     ],
     "language": "python",
     "metadata": {},
     "outputs": [],
     "prompt_number": 364
    },
    {
     "cell_type": "code",
     "collapsed": false,
     "input": [
      "a = quicksort2(x)"
     ],
     "language": "python",
     "metadata": {},
     "outputs": [],
     "prompt_number": 365
    },
    {
     "cell_type": "code",
     "collapsed": false,
     "input": [
      "a[1]"
     ],
     "language": "python",
     "metadata": {},
     "outputs": [
      {
       "metadata": {},
       "output_type": "pyout",
       "prompt_number": 366,
       "text": [
        "138382"
       ]
      }
     ],
     "prompt_number": 366
    },
    {
     "cell_type": "code",
     "collapsed": false,
     "input": [
      "a = [[57,\n",
      "97,\n",
      "17,\n",
      "31,\n",
      "54,\n",
      "98,\n",
      "87,\n",
      "27,\n",
      "89,\n",
      "81,\n",
      "18,\n",
      "70,\n",
      "3,\n",
      "34,\n",
      "63,\n",
      "100,\n",
      "46,\n",
      "30,\n",
      "99,\n",
      "10,\n",
      "33,\n",
      "65,\n",
      "96,\n",
      "38,\n",
      "48,\n",
      "80,\n",
      "95,\n",
      "6,\n",
      "16,\n",
      "19,\n",
      "56,\n",
      "61,\n",
      "1,\n",
      "47,\n",
      "12,\n",
      "73,\n",
      "49,\n",
      "41,\n",
      "37,\n",
      "40,\n",
      "59,\n",
      "67,\n",
      "93,\n",
      "26,\n",
      "75,\n",
      "44,\n",
      "58,\n",
      "66,\n",
      "8,\n",
      "55,\n",
      "94,\n",
      "74,\n",
      "83,\n",
      "7,\n",
      "15,\n",
      "86,\n",
      "42,\n",
      "50,\n",
      "5,\n",
      "22,\n",
      "90,\n",
      "13,\n",
      "69,\n",
      "53,\n",
      "43,\n",
      "24,\n",
      "92,\n",
      "51,\n",
      "23,\n",
      "39,\n",
      "78,\n",
      "85,\n",
      "4,\n",
      "25,\n",
      "52,\n",
      "36,\n",
      "60,\n",
      "68,\n",
      "9,\n",
      "64,\n",
      "79,\n",
      "14,\n",
      "45,\n",
      "2,\n",
      "77,\n",
      "84,\n",
      "11,\n",
      "71,\n",
      "35,\n",
      "72,\n",
      "28,\n",
      "76,\n",
      "82,\n",
      "88,\n",
      "32,\n",
      "21,\n",
      "20,\n",
      "91,\n",
      "62,\n",
      "29]]"
     ],
     "language": "python",
     "metadata": {},
     "outputs": [],
     "prompt_number": 359
    },
    {
     "cell_type": "code",
     "collapsed": false,
     "input": [
      "new_A = quicksort2(a)\n",
      "new_A[1]"
     ],
     "language": "python",
     "metadata": {},
     "outputs": [
      {
       "metadata": {},
       "output_type": "pyout",
       "prompt_number": 360,
       "text": [
        "518"
       ]
      }
     ],
     "prompt_number": 360
    },
    {
     "cell_type": "code",
     "collapsed": false,
     "input": [
      "len(new_A[0])"
     ],
     "language": "python",
     "metadata": {},
     "outputs": [
      {
       "metadata": {},
       "output_type": "pyout",
       "prompt_number": 344,
       "text": [
        "100"
       ]
      }
     ],
     "prompt_number": 344
    },
    {
     "cell_type": "code",
     "collapsed": false,
     "input": [
      "cd Desktop/Tanuj/Coursera/Design of Algos-Stanford/HW6/Problem1"
     ],
     "language": "python",
     "metadata": {},
     "outputs": [
      {
       "output_type": "stream",
       "stream": "stdout",
       "text": [
        "/Users/tanujpandey/Desktop/Tanuj/Coursera/Design of Algos-Stanford/HW6/Problem1\n"
       ]
      }
     ],
     "prompt_number": 4
    },
    {
     "cell_type": "code",
     "collapsed": false,
     "input": [
      "import numpy as np\n",
      "import csv as csv\n",
      "\n",
      "csv_file_object = csv.reader(open('algo1-programming_prob-2sum.txt', 'rb'))"
     ],
     "language": "python",
     "metadata": {},
     "outputs": [],
     "prompt_number": 5
    },
    {
     "cell_type": "code",
     "collapsed": false,
     "input": [
      "data = []\n",
      "for row in csv_file_object:\n",
      "    data.append(row)\n"
     ],
     "language": "python",
     "metadata": {},
     "outputs": [],
     "prompt_number": 6
    },
    {
     "cell_type": "code",
     "collapsed": false,
     "input": [
      "new_G = []\n",
      "for elem in data:\n",
      "    for i in range(len(elem)):\n",
      "        new_G.append(int(elem[i]))"
     ],
     "language": "python",
     "metadata": {},
     "outputs": [],
     "prompt_number": 8
    },
    {
     "cell_type": "code",
     "collapsed": false,
     "input": [
      "size(new_G)"
     ],
     "language": "python",
     "metadata": {},
     "outputs": [
      {
       "metadata": {},
       "output_type": "pyout",
       "prompt_number": 11,
       "text": [
        "1000000"
       ]
      }
     ],
     "prompt_number": 11
    },
    {
     "cell_type": "code",
     "collapsed": false,
     "input": [
      "new_data = quicksort2([new_G])"
     ],
     "language": "python",
     "metadata": {},
     "outputs": [
      {
       "ename": "ValueError",
       "evalue": "None is not in list",
       "output_type": "pyerr",
       "traceback": [
        "\u001b[0;31m---------------------------------------------------------------------------\u001b[0m\n\u001b[0;31mValueError\u001b[0m                                Traceback (most recent call last)",
        "\u001b[0;32m<ipython-input-16-a0f578d61d87>\u001b[0m in \u001b[0;36m<module>\u001b[0;34m()\u001b[0m\n\u001b[0;32m----> 1\u001b[0;31m \u001b[0mnew_data\u001b[0m \u001b[0;34m=\u001b[0m \u001b[0mquicksort2\u001b[0m\u001b[0;34m(\u001b[0m\u001b[0;34m[\u001b[0m\u001b[0mnew_G\u001b[0m\u001b[0;34m]\u001b[0m\u001b[0;34m)\u001b[0m\u001b[0;34m\u001b[0m\u001b[0m\n\u001b[0m",
        "\u001b[0;32m<ipython-input-13-65bdb3e8c264>\u001b[0m in \u001b[0;36mquicksort2\u001b[0;34m(x)\u001b[0m\n\u001b[1;32m     22\u001b[0m         \u001b[0msecond_half\u001b[0m \u001b[0;34m=\u001b[0m \u001b[0;34m[\u001b[0m\u001b[0mnew_x\u001b[0m\u001b[0;34m[\u001b[0m\u001b[0;34m(\u001b[0m\u001b[0minit_split\u001b[0m\u001b[0;34m+\u001b[0m\u001b[0;36m1\u001b[0m\u001b[0;34m)\u001b[0m\u001b[0;34m:\u001b[0m\u001b[0;34m]\u001b[0m\u001b[0;34m]\u001b[0m\u001b[0;34m\u001b[0m\u001b[0m\n\u001b[1;32m     23\u001b[0m         \u001b[0mcomparisons\u001b[0m \u001b[0;34m=\u001b[0m \u001b[0mlen\u001b[0m\u001b[0;34m(\u001b[0m\u001b[0mx\u001b[0m\u001b[0;34m[\u001b[0m\u001b[0;36m0\u001b[0m\u001b[0;34m]\u001b[0m\u001b[0;34m)\u001b[0m \u001b[0;34m-\u001b[0m \u001b[0;36m1\u001b[0m\u001b[0;34m\u001b[0m\u001b[0m\n\u001b[0;32m---> 24\u001b[0;31m         \u001b[0mfh_qs\u001b[0m \u001b[0;34m=\u001b[0m \u001b[0mquicksort2\u001b[0m\u001b[0;34m(\u001b[0m\u001b[0mfirst_half\u001b[0m\u001b[0;34m)\u001b[0m\u001b[0;34m\u001b[0m\u001b[0m\n\u001b[0m\u001b[1;32m     25\u001b[0m         \u001b[0msh_qs\u001b[0m \u001b[0;34m=\u001b[0m \u001b[0mquicksort2\u001b[0m\u001b[0;34m(\u001b[0m\u001b[0msecond_half\u001b[0m\u001b[0;34m)\u001b[0m\u001b[0;34m\u001b[0m\u001b[0m\n\u001b[1;32m     26\u001b[0m \u001b[0;34m\u001b[0m\u001b[0m\n",
        "\u001b[0;32m<ipython-input-13-65bdb3e8c264>\u001b[0m in \u001b[0;36mquicksort2\u001b[0;34m(x)\u001b[0m\n\u001b[1;32m     22\u001b[0m         \u001b[0msecond_half\u001b[0m \u001b[0;34m=\u001b[0m \u001b[0;34m[\u001b[0m\u001b[0mnew_x\u001b[0m\u001b[0;34m[\u001b[0m\u001b[0;34m(\u001b[0m\u001b[0minit_split\u001b[0m\u001b[0;34m+\u001b[0m\u001b[0;36m1\u001b[0m\u001b[0;34m)\u001b[0m\u001b[0;34m:\u001b[0m\u001b[0;34m]\u001b[0m\u001b[0;34m]\u001b[0m\u001b[0;34m\u001b[0m\u001b[0m\n\u001b[1;32m     23\u001b[0m         \u001b[0mcomparisons\u001b[0m \u001b[0;34m=\u001b[0m \u001b[0mlen\u001b[0m\u001b[0;34m(\u001b[0m\u001b[0mx\u001b[0m\u001b[0;34m[\u001b[0m\u001b[0;36m0\u001b[0m\u001b[0;34m]\u001b[0m\u001b[0;34m)\u001b[0m \u001b[0;34m-\u001b[0m \u001b[0;36m1\u001b[0m\u001b[0;34m\u001b[0m\u001b[0m\n\u001b[0;32m---> 24\u001b[0;31m         \u001b[0mfh_qs\u001b[0m \u001b[0;34m=\u001b[0m \u001b[0mquicksort2\u001b[0m\u001b[0;34m(\u001b[0m\u001b[0mfirst_half\u001b[0m\u001b[0;34m)\u001b[0m\u001b[0;34m\u001b[0m\u001b[0m\n\u001b[0m\u001b[1;32m     25\u001b[0m         \u001b[0msh_qs\u001b[0m \u001b[0;34m=\u001b[0m \u001b[0mquicksort2\u001b[0m\u001b[0;34m(\u001b[0m\u001b[0msecond_half\u001b[0m\u001b[0;34m)\u001b[0m\u001b[0;34m\u001b[0m\u001b[0m\n\u001b[1;32m     26\u001b[0m \u001b[0;34m\u001b[0m\u001b[0m\n",
        "\u001b[0;32m<ipython-input-13-65bdb3e8c264>\u001b[0m in \u001b[0;36mquicksort2\u001b[0;34m(x)\u001b[0m\n\u001b[1;32m     22\u001b[0m         \u001b[0msecond_half\u001b[0m \u001b[0;34m=\u001b[0m \u001b[0;34m[\u001b[0m\u001b[0mnew_x\u001b[0m\u001b[0;34m[\u001b[0m\u001b[0;34m(\u001b[0m\u001b[0minit_split\u001b[0m\u001b[0;34m+\u001b[0m\u001b[0;36m1\u001b[0m\u001b[0;34m)\u001b[0m\u001b[0;34m:\u001b[0m\u001b[0;34m]\u001b[0m\u001b[0;34m]\u001b[0m\u001b[0;34m\u001b[0m\u001b[0m\n\u001b[1;32m     23\u001b[0m         \u001b[0mcomparisons\u001b[0m \u001b[0;34m=\u001b[0m \u001b[0mlen\u001b[0m\u001b[0;34m(\u001b[0m\u001b[0mx\u001b[0m\u001b[0;34m[\u001b[0m\u001b[0;36m0\u001b[0m\u001b[0;34m]\u001b[0m\u001b[0;34m)\u001b[0m \u001b[0;34m-\u001b[0m \u001b[0;36m1\u001b[0m\u001b[0;34m\u001b[0m\u001b[0m\n\u001b[0;32m---> 24\u001b[0;31m         \u001b[0mfh_qs\u001b[0m \u001b[0;34m=\u001b[0m \u001b[0mquicksort2\u001b[0m\u001b[0;34m(\u001b[0m\u001b[0mfirst_half\u001b[0m\u001b[0;34m)\u001b[0m\u001b[0;34m\u001b[0m\u001b[0m\n\u001b[0m\u001b[1;32m     25\u001b[0m         \u001b[0msh_qs\u001b[0m \u001b[0;34m=\u001b[0m \u001b[0mquicksort2\u001b[0m\u001b[0;34m(\u001b[0m\u001b[0msecond_half\u001b[0m\u001b[0;34m)\u001b[0m\u001b[0;34m\u001b[0m\u001b[0m\n\u001b[1;32m     26\u001b[0m \u001b[0;34m\u001b[0m\u001b[0m\n",
        "\u001b[0;32m<ipython-input-13-65bdb3e8c264>\u001b[0m in \u001b[0;36mquicksort2\u001b[0;34m(x)\u001b[0m\n\u001b[1;32m     22\u001b[0m         \u001b[0msecond_half\u001b[0m \u001b[0;34m=\u001b[0m \u001b[0;34m[\u001b[0m\u001b[0mnew_x\u001b[0m\u001b[0;34m[\u001b[0m\u001b[0;34m(\u001b[0m\u001b[0minit_split\u001b[0m\u001b[0;34m+\u001b[0m\u001b[0;36m1\u001b[0m\u001b[0;34m)\u001b[0m\u001b[0;34m:\u001b[0m\u001b[0;34m]\u001b[0m\u001b[0;34m]\u001b[0m\u001b[0;34m\u001b[0m\u001b[0m\n\u001b[1;32m     23\u001b[0m         \u001b[0mcomparisons\u001b[0m \u001b[0;34m=\u001b[0m \u001b[0mlen\u001b[0m\u001b[0;34m(\u001b[0m\u001b[0mx\u001b[0m\u001b[0;34m[\u001b[0m\u001b[0;36m0\u001b[0m\u001b[0;34m]\u001b[0m\u001b[0;34m)\u001b[0m \u001b[0;34m-\u001b[0m \u001b[0;36m1\u001b[0m\u001b[0;34m\u001b[0m\u001b[0m\n\u001b[0;32m---> 24\u001b[0;31m         \u001b[0mfh_qs\u001b[0m \u001b[0;34m=\u001b[0m \u001b[0mquicksort2\u001b[0m\u001b[0;34m(\u001b[0m\u001b[0mfirst_half\u001b[0m\u001b[0;34m)\u001b[0m\u001b[0;34m\u001b[0m\u001b[0m\n\u001b[0m\u001b[1;32m     25\u001b[0m         \u001b[0msh_qs\u001b[0m \u001b[0;34m=\u001b[0m \u001b[0mquicksort2\u001b[0m\u001b[0;34m(\u001b[0m\u001b[0msecond_half\u001b[0m\u001b[0;34m)\u001b[0m\u001b[0;34m\u001b[0m\u001b[0m\n\u001b[1;32m     26\u001b[0m \u001b[0;34m\u001b[0m\u001b[0m\n",
        "\u001b[0;32m<ipython-input-13-65bdb3e8c264>\u001b[0m in \u001b[0;36mquicksort2\u001b[0;34m(x)\u001b[0m\n\u001b[1;32m     22\u001b[0m         \u001b[0msecond_half\u001b[0m \u001b[0;34m=\u001b[0m \u001b[0;34m[\u001b[0m\u001b[0mnew_x\u001b[0m\u001b[0;34m[\u001b[0m\u001b[0;34m(\u001b[0m\u001b[0minit_split\u001b[0m\u001b[0;34m+\u001b[0m\u001b[0;36m1\u001b[0m\u001b[0;34m)\u001b[0m\u001b[0;34m:\u001b[0m\u001b[0;34m]\u001b[0m\u001b[0;34m]\u001b[0m\u001b[0;34m\u001b[0m\u001b[0m\n\u001b[1;32m     23\u001b[0m         \u001b[0mcomparisons\u001b[0m \u001b[0;34m=\u001b[0m \u001b[0mlen\u001b[0m\u001b[0;34m(\u001b[0m\u001b[0mx\u001b[0m\u001b[0;34m[\u001b[0m\u001b[0;36m0\u001b[0m\u001b[0;34m]\u001b[0m\u001b[0;34m)\u001b[0m \u001b[0;34m-\u001b[0m \u001b[0;36m1\u001b[0m\u001b[0;34m\u001b[0m\u001b[0m\n\u001b[0;32m---> 24\u001b[0;31m         \u001b[0mfh_qs\u001b[0m \u001b[0;34m=\u001b[0m \u001b[0mquicksort2\u001b[0m\u001b[0;34m(\u001b[0m\u001b[0mfirst_half\u001b[0m\u001b[0;34m)\u001b[0m\u001b[0;34m\u001b[0m\u001b[0m\n\u001b[0m\u001b[1;32m     25\u001b[0m         \u001b[0msh_qs\u001b[0m \u001b[0;34m=\u001b[0m \u001b[0mquicksort2\u001b[0m\u001b[0;34m(\u001b[0m\u001b[0msecond_half\u001b[0m\u001b[0;34m)\u001b[0m\u001b[0;34m\u001b[0m\u001b[0m\n\u001b[1;32m     26\u001b[0m \u001b[0;34m\u001b[0m\u001b[0m\n",
        "\u001b[0;32m<ipython-input-13-65bdb3e8c264>\u001b[0m in \u001b[0;36mquicksort2\u001b[0;34m(x)\u001b[0m\n\u001b[1;32m     23\u001b[0m         \u001b[0mcomparisons\u001b[0m \u001b[0;34m=\u001b[0m \u001b[0mlen\u001b[0m\u001b[0;34m(\u001b[0m\u001b[0mx\u001b[0m\u001b[0;34m[\u001b[0m\u001b[0;36m0\u001b[0m\u001b[0;34m]\u001b[0m\u001b[0;34m)\u001b[0m \u001b[0;34m-\u001b[0m \u001b[0;36m1\u001b[0m\u001b[0;34m\u001b[0m\u001b[0m\n\u001b[1;32m     24\u001b[0m         \u001b[0mfh_qs\u001b[0m \u001b[0;34m=\u001b[0m \u001b[0mquicksort2\u001b[0m\u001b[0;34m(\u001b[0m\u001b[0mfirst_half\u001b[0m\u001b[0;34m)\u001b[0m\u001b[0;34m\u001b[0m\u001b[0m\n\u001b[0;32m---> 25\u001b[0;31m         \u001b[0msh_qs\u001b[0m \u001b[0;34m=\u001b[0m \u001b[0mquicksort2\u001b[0m\u001b[0;34m(\u001b[0m\u001b[0msecond_half\u001b[0m\u001b[0;34m)\u001b[0m\u001b[0;34m\u001b[0m\u001b[0m\n\u001b[0m\u001b[1;32m     26\u001b[0m \u001b[0;34m\u001b[0m\u001b[0m\n\u001b[1;32m     27\u001b[0m         \u001b[0;32mif\u001b[0m \u001b[0mlen\u001b[0m\u001b[0;34m(\u001b[0m\u001b[0mfh_qs\u001b[0m\u001b[0;34m)\u001b[0m \u001b[0;34m>\u001b[0m \u001b[0;36m1\u001b[0m \u001b[0;32mand\u001b[0m \u001b[0mlen\u001b[0m\u001b[0;34m(\u001b[0m\u001b[0msh_qs\u001b[0m\u001b[0;34m)\u001b[0m \u001b[0;34m>\u001b[0m \u001b[0;36m1\u001b[0m\u001b[0;34m:\u001b[0m\u001b[0;34m\u001b[0m\u001b[0m\n",
        "\u001b[0;32m<ipython-input-13-65bdb3e8c264>\u001b[0m in \u001b[0;36mquicksort2\u001b[0;34m(x)\u001b[0m\n\u001b[1;32m     22\u001b[0m         \u001b[0msecond_half\u001b[0m \u001b[0;34m=\u001b[0m \u001b[0;34m[\u001b[0m\u001b[0mnew_x\u001b[0m\u001b[0;34m[\u001b[0m\u001b[0;34m(\u001b[0m\u001b[0minit_split\u001b[0m\u001b[0;34m+\u001b[0m\u001b[0;36m1\u001b[0m\u001b[0;34m)\u001b[0m\u001b[0;34m:\u001b[0m\u001b[0;34m]\u001b[0m\u001b[0;34m]\u001b[0m\u001b[0;34m\u001b[0m\u001b[0m\n\u001b[1;32m     23\u001b[0m         \u001b[0mcomparisons\u001b[0m \u001b[0;34m=\u001b[0m \u001b[0mlen\u001b[0m\u001b[0;34m(\u001b[0m\u001b[0mx\u001b[0m\u001b[0;34m[\u001b[0m\u001b[0;36m0\u001b[0m\u001b[0;34m]\u001b[0m\u001b[0;34m)\u001b[0m \u001b[0;34m-\u001b[0m \u001b[0;36m1\u001b[0m\u001b[0;34m\u001b[0m\u001b[0m\n\u001b[0;32m---> 24\u001b[0;31m         \u001b[0mfh_qs\u001b[0m \u001b[0;34m=\u001b[0m \u001b[0mquicksort2\u001b[0m\u001b[0;34m(\u001b[0m\u001b[0mfirst_half\u001b[0m\u001b[0;34m)\u001b[0m\u001b[0;34m\u001b[0m\u001b[0m\n\u001b[0m\u001b[1;32m     25\u001b[0m         \u001b[0msh_qs\u001b[0m \u001b[0;34m=\u001b[0m \u001b[0mquicksort2\u001b[0m\u001b[0;34m(\u001b[0m\u001b[0msecond_half\u001b[0m\u001b[0;34m)\u001b[0m\u001b[0;34m\u001b[0m\u001b[0m\n\u001b[1;32m     26\u001b[0m \u001b[0;34m\u001b[0m\u001b[0m\n",
        "\u001b[0;32m<ipython-input-13-65bdb3e8c264>\u001b[0m in \u001b[0;36mquicksort2\u001b[0;34m(x)\u001b[0m\n\u001b[1;32m     23\u001b[0m         \u001b[0mcomparisons\u001b[0m \u001b[0;34m=\u001b[0m \u001b[0mlen\u001b[0m\u001b[0;34m(\u001b[0m\u001b[0mx\u001b[0m\u001b[0;34m[\u001b[0m\u001b[0;36m0\u001b[0m\u001b[0;34m]\u001b[0m\u001b[0;34m)\u001b[0m \u001b[0;34m-\u001b[0m \u001b[0;36m1\u001b[0m\u001b[0;34m\u001b[0m\u001b[0m\n\u001b[1;32m     24\u001b[0m         \u001b[0mfh_qs\u001b[0m \u001b[0;34m=\u001b[0m \u001b[0mquicksort2\u001b[0m\u001b[0;34m(\u001b[0m\u001b[0mfirst_half\u001b[0m\u001b[0;34m)\u001b[0m\u001b[0;34m\u001b[0m\u001b[0m\n\u001b[0;32m---> 25\u001b[0;31m         \u001b[0msh_qs\u001b[0m \u001b[0;34m=\u001b[0m \u001b[0mquicksort2\u001b[0m\u001b[0;34m(\u001b[0m\u001b[0msecond_half\u001b[0m\u001b[0;34m)\u001b[0m\u001b[0;34m\u001b[0m\u001b[0m\n\u001b[0m\u001b[1;32m     26\u001b[0m \u001b[0;34m\u001b[0m\u001b[0m\n\u001b[1;32m     27\u001b[0m         \u001b[0;32mif\u001b[0m \u001b[0mlen\u001b[0m\u001b[0;34m(\u001b[0m\u001b[0mfh_qs\u001b[0m\u001b[0;34m)\u001b[0m \u001b[0;34m>\u001b[0m \u001b[0;36m1\u001b[0m \u001b[0;32mand\u001b[0m \u001b[0mlen\u001b[0m\u001b[0;34m(\u001b[0m\u001b[0msh_qs\u001b[0m\u001b[0;34m)\u001b[0m \u001b[0;34m>\u001b[0m \u001b[0;36m1\u001b[0m\u001b[0;34m:\u001b[0m\u001b[0;34m\u001b[0m\u001b[0m\n",
        "\u001b[0;32m<ipython-input-13-65bdb3e8c264>\u001b[0m in \u001b[0;36mquicksort2\u001b[0;34m(x)\u001b[0m\n\u001b[1;32m     22\u001b[0m         \u001b[0msecond_half\u001b[0m \u001b[0;34m=\u001b[0m \u001b[0;34m[\u001b[0m\u001b[0mnew_x\u001b[0m\u001b[0;34m[\u001b[0m\u001b[0;34m(\u001b[0m\u001b[0minit_split\u001b[0m\u001b[0;34m+\u001b[0m\u001b[0;36m1\u001b[0m\u001b[0;34m)\u001b[0m\u001b[0;34m:\u001b[0m\u001b[0;34m]\u001b[0m\u001b[0;34m]\u001b[0m\u001b[0;34m\u001b[0m\u001b[0m\n\u001b[1;32m     23\u001b[0m         \u001b[0mcomparisons\u001b[0m \u001b[0;34m=\u001b[0m \u001b[0mlen\u001b[0m\u001b[0;34m(\u001b[0m\u001b[0mx\u001b[0m\u001b[0;34m[\u001b[0m\u001b[0;36m0\u001b[0m\u001b[0;34m]\u001b[0m\u001b[0;34m)\u001b[0m \u001b[0;34m-\u001b[0m \u001b[0;36m1\u001b[0m\u001b[0;34m\u001b[0m\u001b[0m\n\u001b[0;32m---> 24\u001b[0;31m         \u001b[0mfh_qs\u001b[0m \u001b[0;34m=\u001b[0m \u001b[0mquicksort2\u001b[0m\u001b[0;34m(\u001b[0m\u001b[0mfirst_half\u001b[0m\u001b[0;34m)\u001b[0m\u001b[0;34m\u001b[0m\u001b[0m\n\u001b[0m\u001b[1;32m     25\u001b[0m         \u001b[0msh_qs\u001b[0m \u001b[0;34m=\u001b[0m \u001b[0mquicksort2\u001b[0m\u001b[0;34m(\u001b[0m\u001b[0msecond_half\u001b[0m\u001b[0;34m)\u001b[0m\u001b[0;34m\u001b[0m\u001b[0m\n\u001b[1;32m     26\u001b[0m \u001b[0;34m\u001b[0m\u001b[0m\n",
        "\u001b[0;32m<ipython-input-13-65bdb3e8c264>\u001b[0m in \u001b[0;36mquicksort2\u001b[0;34m(x)\u001b[0m\n\u001b[1;32m     23\u001b[0m         \u001b[0mcomparisons\u001b[0m \u001b[0;34m=\u001b[0m \u001b[0mlen\u001b[0m\u001b[0;34m(\u001b[0m\u001b[0mx\u001b[0m\u001b[0;34m[\u001b[0m\u001b[0;36m0\u001b[0m\u001b[0;34m]\u001b[0m\u001b[0;34m)\u001b[0m \u001b[0;34m-\u001b[0m \u001b[0;36m1\u001b[0m\u001b[0;34m\u001b[0m\u001b[0m\n\u001b[1;32m     24\u001b[0m         \u001b[0mfh_qs\u001b[0m \u001b[0;34m=\u001b[0m \u001b[0mquicksort2\u001b[0m\u001b[0;34m(\u001b[0m\u001b[0mfirst_half\u001b[0m\u001b[0;34m)\u001b[0m\u001b[0;34m\u001b[0m\u001b[0m\n\u001b[0;32m---> 25\u001b[0;31m         \u001b[0msh_qs\u001b[0m \u001b[0;34m=\u001b[0m \u001b[0mquicksort2\u001b[0m\u001b[0;34m(\u001b[0m\u001b[0msecond_half\u001b[0m\u001b[0;34m)\u001b[0m\u001b[0;34m\u001b[0m\u001b[0m\n\u001b[0m\u001b[1;32m     26\u001b[0m \u001b[0;34m\u001b[0m\u001b[0m\n\u001b[1;32m     27\u001b[0m         \u001b[0;32mif\u001b[0m \u001b[0mlen\u001b[0m\u001b[0;34m(\u001b[0m\u001b[0mfh_qs\u001b[0m\u001b[0;34m)\u001b[0m \u001b[0;34m>\u001b[0m \u001b[0;36m1\u001b[0m \u001b[0;32mand\u001b[0m \u001b[0mlen\u001b[0m\u001b[0;34m(\u001b[0m\u001b[0msh_qs\u001b[0m\u001b[0;34m)\u001b[0m \u001b[0;34m>\u001b[0m \u001b[0;36m1\u001b[0m\u001b[0;34m:\u001b[0m\u001b[0;34m\u001b[0m\u001b[0m\n",
        "\u001b[0;32m<ipython-input-13-65bdb3e8c264>\u001b[0m in \u001b[0;36mquicksort2\u001b[0;34m(x)\u001b[0m\n\u001b[1;32m     22\u001b[0m         \u001b[0msecond_half\u001b[0m \u001b[0;34m=\u001b[0m \u001b[0;34m[\u001b[0m\u001b[0mnew_x\u001b[0m\u001b[0;34m[\u001b[0m\u001b[0;34m(\u001b[0m\u001b[0minit_split\u001b[0m\u001b[0;34m+\u001b[0m\u001b[0;36m1\u001b[0m\u001b[0;34m)\u001b[0m\u001b[0;34m:\u001b[0m\u001b[0;34m]\u001b[0m\u001b[0;34m]\u001b[0m\u001b[0;34m\u001b[0m\u001b[0m\n\u001b[1;32m     23\u001b[0m         \u001b[0mcomparisons\u001b[0m \u001b[0;34m=\u001b[0m \u001b[0mlen\u001b[0m\u001b[0;34m(\u001b[0m\u001b[0mx\u001b[0m\u001b[0;34m[\u001b[0m\u001b[0;36m0\u001b[0m\u001b[0;34m]\u001b[0m\u001b[0;34m)\u001b[0m \u001b[0;34m-\u001b[0m \u001b[0;36m1\u001b[0m\u001b[0;34m\u001b[0m\u001b[0m\n\u001b[0;32m---> 24\u001b[0;31m         \u001b[0mfh_qs\u001b[0m \u001b[0;34m=\u001b[0m \u001b[0mquicksort2\u001b[0m\u001b[0;34m(\u001b[0m\u001b[0mfirst_half\u001b[0m\u001b[0;34m)\u001b[0m\u001b[0;34m\u001b[0m\u001b[0m\n\u001b[0m\u001b[1;32m     25\u001b[0m         \u001b[0msh_qs\u001b[0m \u001b[0;34m=\u001b[0m \u001b[0mquicksort2\u001b[0m\u001b[0;34m(\u001b[0m\u001b[0msecond_half\u001b[0m\u001b[0;34m)\u001b[0m\u001b[0;34m\u001b[0m\u001b[0m\n\u001b[1;32m     26\u001b[0m \u001b[0;34m\u001b[0m\u001b[0m\n",
        "\u001b[0;32m<ipython-input-13-65bdb3e8c264>\u001b[0m in \u001b[0;36mquicksort2\u001b[0;34m(x)\u001b[0m\n\u001b[1;32m     22\u001b[0m         \u001b[0msecond_half\u001b[0m \u001b[0;34m=\u001b[0m \u001b[0;34m[\u001b[0m\u001b[0mnew_x\u001b[0m\u001b[0;34m[\u001b[0m\u001b[0;34m(\u001b[0m\u001b[0minit_split\u001b[0m\u001b[0;34m+\u001b[0m\u001b[0;36m1\u001b[0m\u001b[0;34m)\u001b[0m\u001b[0;34m:\u001b[0m\u001b[0;34m]\u001b[0m\u001b[0;34m]\u001b[0m\u001b[0;34m\u001b[0m\u001b[0m\n\u001b[1;32m     23\u001b[0m         \u001b[0mcomparisons\u001b[0m \u001b[0;34m=\u001b[0m \u001b[0mlen\u001b[0m\u001b[0;34m(\u001b[0m\u001b[0mx\u001b[0m\u001b[0;34m[\u001b[0m\u001b[0;36m0\u001b[0m\u001b[0;34m]\u001b[0m\u001b[0;34m)\u001b[0m \u001b[0;34m-\u001b[0m \u001b[0;36m1\u001b[0m\u001b[0;34m\u001b[0m\u001b[0m\n\u001b[0;32m---> 24\u001b[0;31m         \u001b[0mfh_qs\u001b[0m \u001b[0;34m=\u001b[0m \u001b[0mquicksort2\u001b[0m\u001b[0;34m(\u001b[0m\u001b[0mfirst_half\u001b[0m\u001b[0;34m)\u001b[0m\u001b[0;34m\u001b[0m\u001b[0m\n\u001b[0m\u001b[1;32m     25\u001b[0m         \u001b[0msh_qs\u001b[0m \u001b[0;34m=\u001b[0m \u001b[0mquicksort2\u001b[0m\u001b[0;34m(\u001b[0m\u001b[0msecond_half\u001b[0m\u001b[0;34m)\u001b[0m\u001b[0;34m\u001b[0m\u001b[0m\n\u001b[1;32m     26\u001b[0m \u001b[0;34m\u001b[0m\u001b[0m\n",
        "\u001b[0;32m<ipython-input-13-65bdb3e8c264>\u001b[0m in \u001b[0;36mquicksort2\u001b[0;34m(x)\u001b[0m\n\u001b[1;32m     23\u001b[0m         \u001b[0mcomparisons\u001b[0m \u001b[0;34m=\u001b[0m \u001b[0mlen\u001b[0m\u001b[0;34m(\u001b[0m\u001b[0mx\u001b[0m\u001b[0;34m[\u001b[0m\u001b[0;36m0\u001b[0m\u001b[0;34m]\u001b[0m\u001b[0;34m)\u001b[0m \u001b[0;34m-\u001b[0m \u001b[0;36m1\u001b[0m\u001b[0;34m\u001b[0m\u001b[0m\n\u001b[1;32m     24\u001b[0m         \u001b[0mfh_qs\u001b[0m \u001b[0;34m=\u001b[0m \u001b[0mquicksort2\u001b[0m\u001b[0;34m(\u001b[0m\u001b[0mfirst_half\u001b[0m\u001b[0;34m)\u001b[0m\u001b[0;34m\u001b[0m\u001b[0m\n\u001b[0;32m---> 25\u001b[0;31m         \u001b[0msh_qs\u001b[0m \u001b[0;34m=\u001b[0m \u001b[0mquicksort2\u001b[0m\u001b[0;34m(\u001b[0m\u001b[0msecond_half\u001b[0m\u001b[0;34m)\u001b[0m\u001b[0;34m\u001b[0m\u001b[0m\n\u001b[0m\u001b[1;32m     26\u001b[0m \u001b[0;34m\u001b[0m\u001b[0m\n\u001b[1;32m     27\u001b[0m         \u001b[0;32mif\u001b[0m \u001b[0mlen\u001b[0m\u001b[0;34m(\u001b[0m\u001b[0mfh_qs\u001b[0m\u001b[0;34m)\u001b[0m \u001b[0;34m>\u001b[0m \u001b[0;36m1\u001b[0m \u001b[0;32mand\u001b[0m \u001b[0mlen\u001b[0m\u001b[0;34m(\u001b[0m\u001b[0msh_qs\u001b[0m\u001b[0;34m)\u001b[0m \u001b[0;34m>\u001b[0m \u001b[0;36m1\u001b[0m\u001b[0;34m:\u001b[0m\u001b[0;34m\u001b[0m\u001b[0m\n",
        "\u001b[0;32m<ipython-input-13-65bdb3e8c264>\u001b[0m in \u001b[0;36mquicksort2\u001b[0;34m(x)\u001b[0m\n\u001b[1;32m     23\u001b[0m         \u001b[0mcomparisons\u001b[0m \u001b[0;34m=\u001b[0m \u001b[0mlen\u001b[0m\u001b[0;34m(\u001b[0m\u001b[0mx\u001b[0m\u001b[0;34m[\u001b[0m\u001b[0;36m0\u001b[0m\u001b[0;34m]\u001b[0m\u001b[0;34m)\u001b[0m \u001b[0;34m-\u001b[0m \u001b[0;36m1\u001b[0m\u001b[0;34m\u001b[0m\u001b[0m\n\u001b[1;32m     24\u001b[0m         \u001b[0mfh_qs\u001b[0m \u001b[0;34m=\u001b[0m \u001b[0mquicksort2\u001b[0m\u001b[0;34m(\u001b[0m\u001b[0mfirst_half\u001b[0m\u001b[0;34m)\u001b[0m\u001b[0;34m\u001b[0m\u001b[0m\n\u001b[0;32m---> 25\u001b[0;31m         \u001b[0msh_qs\u001b[0m \u001b[0;34m=\u001b[0m \u001b[0mquicksort2\u001b[0m\u001b[0;34m(\u001b[0m\u001b[0msecond_half\u001b[0m\u001b[0;34m)\u001b[0m\u001b[0;34m\u001b[0m\u001b[0m\n\u001b[0m\u001b[1;32m     26\u001b[0m \u001b[0;34m\u001b[0m\u001b[0m\n\u001b[1;32m     27\u001b[0m         \u001b[0;32mif\u001b[0m \u001b[0mlen\u001b[0m\u001b[0;34m(\u001b[0m\u001b[0mfh_qs\u001b[0m\u001b[0;34m)\u001b[0m \u001b[0;34m>\u001b[0m \u001b[0;36m1\u001b[0m \u001b[0;32mand\u001b[0m \u001b[0mlen\u001b[0m\u001b[0;34m(\u001b[0m\u001b[0msh_qs\u001b[0m\u001b[0;34m)\u001b[0m \u001b[0;34m>\u001b[0m \u001b[0;36m1\u001b[0m\u001b[0;34m:\u001b[0m\u001b[0;34m\u001b[0m\u001b[0m\n",
        "\u001b[0;32m<ipython-input-13-65bdb3e8c264>\u001b[0m in \u001b[0;36mquicksort2\u001b[0;34m(x)\u001b[0m\n\u001b[1;32m     22\u001b[0m         \u001b[0msecond_half\u001b[0m \u001b[0;34m=\u001b[0m \u001b[0;34m[\u001b[0m\u001b[0mnew_x\u001b[0m\u001b[0;34m[\u001b[0m\u001b[0;34m(\u001b[0m\u001b[0minit_split\u001b[0m\u001b[0;34m+\u001b[0m\u001b[0;36m1\u001b[0m\u001b[0;34m)\u001b[0m\u001b[0;34m:\u001b[0m\u001b[0;34m]\u001b[0m\u001b[0;34m]\u001b[0m\u001b[0;34m\u001b[0m\u001b[0m\n\u001b[1;32m     23\u001b[0m         \u001b[0mcomparisons\u001b[0m \u001b[0;34m=\u001b[0m \u001b[0mlen\u001b[0m\u001b[0;34m(\u001b[0m\u001b[0mx\u001b[0m\u001b[0;34m[\u001b[0m\u001b[0;36m0\u001b[0m\u001b[0;34m]\u001b[0m\u001b[0;34m)\u001b[0m \u001b[0;34m-\u001b[0m \u001b[0;36m1\u001b[0m\u001b[0;34m\u001b[0m\u001b[0m\n\u001b[0;32m---> 24\u001b[0;31m         \u001b[0mfh_qs\u001b[0m \u001b[0;34m=\u001b[0m \u001b[0mquicksort2\u001b[0m\u001b[0;34m(\u001b[0m\u001b[0mfirst_half\u001b[0m\u001b[0;34m)\u001b[0m\u001b[0;34m\u001b[0m\u001b[0m\n\u001b[0m\u001b[1;32m     25\u001b[0m         \u001b[0msh_qs\u001b[0m \u001b[0;34m=\u001b[0m \u001b[0mquicksort2\u001b[0m\u001b[0;34m(\u001b[0m\u001b[0msecond_half\u001b[0m\u001b[0;34m)\u001b[0m\u001b[0;34m\u001b[0m\u001b[0m\n\u001b[1;32m     26\u001b[0m \u001b[0;34m\u001b[0m\u001b[0m\n",
        "\u001b[0;32m<ipython-input-13-65bdb3e8c264>\u001b[0m in \u001b[0;36mquicksort2\u001b[0;34m(x)\u001b[0m\n\u001b[1;32m     17\u001b[0m \u001b[0;34m\u001b[0m\u001b[0m\n\u001b[1;32m     18\u001b[0m        \u001b[0;31m# part_var = x[0][len(x) - 1]\u001b[0m\u001b[0;34m\u001b[0m\u001b[0;34m\u001b[0m\u001b[0m\n\u001b[0;32m---> 19\u001b[0;31m         \u001b[0mnew_x\u001b[0m \u001b[0;34m=\u001b[0m \u001b[0mpartition3\u001b[0m\u001b[0;34m(\u001b[0m\u001b[0mx\u001b[0m\u001b[0;34m[\u001b[0m\u001b[0;36m0\u001b[0m\u001b[0;34m]\u001b[0m\u001b[0;34m,\u001b[0m\u001b[0;36m0\u001b[0m\u001b[0;34m,\u001b[0m\u001b[0mlen\u001b[0m\u001b[0;34m(\u001b[0m\u001b[0mx\u001b[0m\u001b[0;34m[\u001b[0m\u001b[0;36m0\u001b[0m\u001b[0;34m]\u001b[0m\u001b[0;34m)\u001b[0m\u001b[0;34m)\u001b[0m\u001b[0;34m\u001b[0m\u001b[0m\n\u001b[0m\u001b[1;32m     20\u001b[0m         \u001b[0minit_split\u001b[0m \u001b[0;34m=\u001b[0m \u001b[0mnew_x\u001b[0m\u001b[0;34m.\u001b[0m\u001b[0mindex\u001b[0m\u001b[0;34m(\u001b[0m\u001b[0mpart_var\u001b[0m\u001b[0;34m)\u001b[0m\u001b[0;34m\u001b[0m\u001b[0m\n\u001b[1;32m     21\u001b[0m         \u001b[0mfirst_half\u001b[0m \u001b[0;34m=\u001b[0m \u001b[0;34m[\u001b[0m\u001b[0mnew_x\u001b[0m\u001b[0;34m[\u001b[0m\u001b[0;34m:\u001b[0m\u001b[0minit_split\u001b[0m\u001b[0;34m]\u001b[0m\u001b[0;34m]\u001b[0m\u001b[0;34m\u001b[0m\u001b[0m\n",
        "\u001b[0;32m<ipython-input-1-03dad3b0eb28>\u001b[0m in \u001b[0;36mpartition3\u001b[0;34m(x, l, r)\u001b[0m\n\u001b[1;32m     66\u001b[0m         \u001b[0;32mreturn\u001b[0m \u001b[0mpartition\u001b[0m\u001b[0;34m(\u001b[0m\u001b[0mx\u001b[0m\u001b[0;34m,\u001b[0m \u001b[0;36m0\u001b[0m\u001b[0;34m,\u001b[0m \u001b[0mlen\u001b[0m\u001b[0;34m(\u001b[0m\u001b[0mx\u001b[0m\u001b[0;34m)\u001b[0m\u001b[0;34m)\u001b[0m\u001b[0;34m\u001b[0m\u001b[0m\n\u001b[1;32m     67\u001b[0m     \u001b[0;32melif\u001b[0m \u001b[0mlen\u001b[0m\u001b[0;34m(\u001b[0m\u001b[0mx\u001b[0m\u001b[0;34m)\u001b[0m \u001b[0;34m>=\u001b[0m \u001b[0;36m3\u001b[0m\u001b[0;34m:\u001b[0m\u001b[0;34m\u001b[0m\u001b[0m\n\u001b[0;32m---> 68\u001b[0;31m         \u001b[0mpivot_location\u001b[0m \u001b[0;34m=\u001b[0m \u001b[0mx\u001b[0m\u001b[0;34m.\u001b[0m\u001b[0mindex\u001b[0m\u001b[0;34m(\u001b[0m\u001b[0mmedian\u001b[0m\u001b[0;34m(\u001b[0m\u001b[0mx\u001b[0m\u001b[0;34m)\u001b[0m\u001b[0;34m)\u001b[0m\u001b[0;34m\u001b[0m\u001b[0m\n\u001b[0m\u001b[1;32m     69\u001b[0m         \u001b[0mswap\u001b[0m\u001b[0;34m(\u001b[0m\u001b[0mx\u001b[0m\u001b[0;34m,\u001b[0m \u001b[0;36m0\u001b[0m\u001b[0;34m,\u001b[0m \u001b[0mpivot_location\u001b[0m\u001b[0;34m)\u001b[0m\u001b[0;34m\u001b[0m\u001b[0m\n\u001b[1;32m     70\u001b[0m         \u001b[0mpivot\u001b[0m \u001b[0;34m=\u001b[0m \u001b[0mx\u001b[0m\u001b[0;34m[\u001b[0m\u001b[0;36m0\u001b[0m\u001b[0;34m]\u001b[0m\u001b[0;34m\u001b[0m\u001b[0m\n",
        "\u001b[0;31mValueError\u001b[0m: None is not in list"
       ]
      }
     ],
     "prompt_number": 16
    },
    {
     "cell_type": "code",
     "collapsed": false,
     "input": [],
     "language": "python",
     "metadata": {},
     "outputs": []
    }
   ],
   "metadata": {}
  }
 ]
}