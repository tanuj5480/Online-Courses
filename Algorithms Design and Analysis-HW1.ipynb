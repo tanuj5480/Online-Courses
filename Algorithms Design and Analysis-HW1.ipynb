{
 "metadata": {
  "name": "",
  "signature": "sha256:301587aedd97ba3895982ec91338d7381f4633d307eb09d9965a0ebf7d02f321"
 },
 "nbformat": 3,
 "nbformat_minor": 0,
 "worksheets": [
  {
   "cells": [
    {
     "cell_type": "code",
     "collapsed": false,
     "input": [
      "import numpy as np\n",
      "x = np.array([4,2,1,3])\n",
      "x"
     ],
     "language": "python",
     "metadata": {},
     "outputs": [
      {
       "metadata": {},
       "output_type": "pyout",
       "prompt_number": 1,
       "text": [
        "array([4, 2, 1, 3])"
       ]
      }
     ],
     "prompt_number": 1
    },
    {
     "cell_type": "code",
     "collapsed": false,
     "input": [
      "# To merge two subsets that are sorted\n",
      "def merge(t, u):\n",
      "    new_len = len(t) + len(u)\n",
      "    i=0; j=0\n",
      "    new_array = []\n",
      "    for k in range(new_len):\n",
      "        if(j < len(u) and i < len(t)):\n",
      "            if (t[i] > u[j]):\n",
      "                new_array.append(u[j])\n",
      "                j = j+1\n",
      "            elif (t[i] < u[j]):\n",
      "                new_array.append(t[i])\n",
      "                i = i+1\n",
      "        elif (j >= len(u)):\n",
      "            new_array.append(t[i])\n",
      "            i=i+1\n",
      "        elif (i >= len(t)):\n",
      "            new_array.append(u[j])\n",
      "            j=j+1\n",
      "        \n",
      "    return new_array        \n",
      "\n",
      "#swapping elements based on their compared value\n",
      "def swap(x):\n",
      "    if x[0] > x[1]:\n",
      "        return ([x[1], x[0]])\n",
      "    return x\n",
      "\n",
      "#implementing the final merge sort, with the help of recu\n",
      "def mergesort(x):\n",
      "    if len(x) == 2:\n",
      "        return swap(x)\n",
      "    elif len(x) < 2:\n",
      "        return x\n",
      "    elif len(x) > 2:\n",
      "        return merge(mergesort(x[:len(x)/2]), mergesort(x[len(x)/2:len(x)]))\n"
     ],
     "language": "python",
     "metadata": {},
     "outputs": [],
     "prompt_number": 2
    },
    {
     "cell_type": "code",
     "collapsed": false,
     "input": [
      "x = [9, 12, 3, 1, 6, 8, 2, 5, 14, 13, 11, 7, 10, 4, 0 ]\n",
      "x_new = mergesort(x)\n",
      "np.array(x) - np.array(x_new)"
     ],
     "language": "python",
     "metadata": {},
     "outputs": [
      {
       "metadata": {},
       "output_type": "pyout",
       "prompt_number": 273,
       "text": [
        "array([  9,  11,   1,  -2,   2,   3,  -4,  -2,   6,   4,   1,  -4,  -2,\n",
        "        -9, -14])"
       ]
      }
     ],
     "prompt_number": 273
    },
    {
     "cell_type": "code",
     "collapsed": false,
     "input": [
      "t = [random.randint(0,1000) for r in xrange(10)]\n",
      "t"
     ],
     "language": "python",
     "metadata": {},
     "outputs": [
      {
       "metadata": {},
       "output_type": "pyout",
       "prompt_number": 199,
       "text": [
        "[870, 23, 601, 848, 367, 82, 886, 578, 487, 107]"
       ]
      }
     ],
     "prompt_number": 199
    },
    {
     "cell_type": "code",
     "collapsed": false,
     "input": [
      "mergesort(t)"
     ],
     "language": "python",
     "metadata": {},
     "outputs": [
      {
       "metadata": {},
       "output_type": "pyout",
       "prompt_number": 175,
       "text": [
        "[81, 302, 354, 397, 448, 575, 818, 922, 931, 983]"
       ]
      }
     ],
     "prompt_number": 175
    },
    {
     "cell_type": "code",
     "collapsed": false,
     "input": [
      "def merge_t(x, y):\n",
      "    new_len = len(x[0]) + len(y[0])\n",
      "    i=0; j=0; count=0\n",
      "    t = x[0] \n",
      "    u = y[0]\n",
      "    new_array = []\n",
      "    for k in range(new_len):\n",
      "        if(j < len(u) and i < len(t)):\n",
      "            if (t[i] > u[j]):\n",
      "                new_array.append(u[j])\n",
      "                count = count+1\n",
      "                j = j+1\n",
      "            elif (t[i] < u[j]):\n",
      "                new_array.append(t[i])\n",
      "                i = i+1\n",
      "        elif (j >= len(u)):\n",
      "            new_array.append(t[i])\n",
      "            i=i+1\n",
      "        elif (i >= len(t)):\n",
      "            new_array.append(u[j])\n",
      "            j=j+1\n",
      "    \n",
      "    if len(x) > 1 and len(y) > 1:\n",
      "        return [new_array, (count + x[1] + y[1])] \n",
      "    return [new_array, (count)]\n"
     ],
     "language": "python",
     "metadata": {},
     "outputs": [],
     "prompt_number": 3
    },
    {
     "cell_type": "code",
     "collapsed": false,
     "input": [
      "t=[[1,2,8,15]]\n",
      "u=[[4,5,6,12]]\n",
      "\n",
      "merge_t(t, u)"
     ],
     "language": "python",
     "metadata": {},
     "outputs": [
      {
       "metadata": {},
       "output_type": "pyout",
       "prompt_number": 193,
       "text": [
        "[[1, 2, 4, 5, 6, 8, 12, 15], 4]"
       ]
      }
     ],
     "prompt_number": 193
    },
    {
     "cell_type": "code",
     "collapsed": false,
     "input": [
      "a= [[1,2,3,4], 3]\n",
      "[a[0][:2]]"
     ],
     "language": "python",
     "metadata": {},
     "outputs": [
      {
       "metadata": {},
       "output_type": "pyout",
       "prompt_number": 203,
       "text": [
        "[[1, 2]]"
       ]
      }
     ],
     "prompt_number": 203
    },
    {
     "cell_type": "code",
     "collapsed": false,
     "input": [
      "def swap_n(x):\n",
      "    count = 0\n",
      "    if x[0][0] > x[0][1]:\n",
      "        return [([x[0][1], x[0][0]]), (count+1)]\n",
      "    return x\n"
     ],
     "language": "python",
     "metadata": {},
     "outputs": [],
     "prompt_number": 190
    },
    {
     "cell_type": "code",
     "collapsed": false,
     "input": [
      "swap_n([[3,2]])\n"
     ],
     "language": "python",
     "metadata": {},
     "outputs": [
      {
       "metadata": {},
       "output_type": "pyout",
       "prompt_number": 191,
       "text": [
        "[[2, 3], 1]"
       ]
      }
     ],
     "prompt_number": 191
    },
    {
     "cell_type": "code",
     "collapsed": false,
     "input": [
      "# To merge two subsets that are sorted\n",
      "def merge(x, y):\n",
      "    new_len = len(x[0]) + len(y[0])\n",
      "    i=0; j=0; count=0\n",
      "    t = x[0] \n",
      "    u = y[0]\n",
      "    new_array = []\n",
      "    for k in range(new_len):\n",
      "        if(j < len(u) and i < len(t)):\n",
      "            if (t[i] > u[j]):\n",
      "                new_array.append(u[j])\n",
      "                count = count + (len(x[0]) - i)\n",
      "                j = j+1\n",
      "            elif (t[i] < u[j]):\n",
      "                new_array.append(t[i])\n",
      "                i = i+1\n",
      "        elif (j >= len(u)):\n",
      "            new_array.append(t[i])\n",
      "            i=i+1\n",
      "            #count = count+(len(x[0]) - i)\n",
      "        elif (i >= len(t)):\n",
      "            new_array.append(u[j])\n",
      "            j=j+1\n",
      "            \n",
      "    if len(x) > 1 and len(y) > 1:\n",
      "        return [new_array, (count + x[1] + y[1])] \n",
      "    elif len(x) > 1:\n",
      "        return [new_array, (count + x[1])]\n",
      "    elif len(y) > 1:\n",
      "        return [new_array, (count + y[1])]\n",
      "    return [new_array, (count)] \n",
      "\n",
      "#swapping elements based on their compared value\n",
      "def swap(x):\n",
      "    count = 0\n",
      "    if x[0][0] > x[0][1]:\n",
      "        return [([x[0][1], x[0][0]]), (count+1)]\n",
      "    return x\n",
      "\n",
      "#implementing the final merge sort, with the help of recursion\n",
      "def mergesort(x):\n",
      "    if len(x[0]) <= 1:\n",
      "        return x\n",
      "    elif len(x[0]) > 1 :\n",
      "        a = mergesort([x[0][:len(x[0])/2]])\n",
      "        b = mergesort([x[0][len(x[0])/2:len(x[0])]])\n",
      "        return merge(a,b)\n"
     ],
     "language": "python",
     "metadata": {},
     "outputs": [],
     "prompt_number": 4
    },
    {
     "cell_type": "code",
     "collapsed": false,
     "input": [
      "x=[[3,2,1]]\n",
      "a = mergesort([x[0][:len(x[0])/2]])\n",
      "b = mergesort([x[0][len(x[0])/2:len(x[0])]])\n",
      "merge (a,b)\n",
      "#a = [[8,1]]\n",
      "#b = [[15, 20], 1]\n",
      "#merge(swap([t[0][:2]]), swap([t[0][2:4]]))\n",
      "#mergesort(x)\n",
      "#b"
     ],
     "language": "python",
     "metadata": {},
     "outputs": [
      {
       "metadata": {},
       "output_type": "pyout",
       "prompt_number": 4,
       "text": [
        "[[1, 2, 3], 3]"
       ]
      }
     ],
     "prompt_number": 4
    },
    {
     "cell_type": "code",
     "collapsed": false,
     "input": [
      "a = mergesort(x)"
     ],
     "language": "python",
     "metadata": {},
     "outputs": [],
     "prompt_number": 352
    },
    {
     "cell_type": "code",
     "collapsed": false,
     "input": [
      "a[1]"
     ],
     "language": "python",
     "metadata": {},
     "outputs": [
      {
       "metadata": {},
       "output_type": "pyout",
       "prompt_number": 353,
       "text": [
        "2372"
       ]
      }
     ],
     "prompt_number": 353
    },
    {
     "cell_type": "code",
     "collapsed": false,
     "input": [
      "pwd"
     ],
     "language": "python",
     "metadata": {},
     "outputs": [
      {
       "metadata": {},
       "output_type": "pyout",
       "prompt_number": 4,
       "text": [
        "u'/Users/tanujpandey'"
       ]
      }
     ],
     "prompt_number": 4
    },
    {
     "cell_type": "code",
     "collapsed": false,
     "input": [
      "ls"
     ],
     "language": "python",
     "metadata": {},
     "outputs": [
      {
       "output_type": "stream",
       "stream": "stdout",
       "text": [
        "Algorithms Design and Analysis - HW2.ipynb  Kaggle&Bagel.ipynb                          \u001b[34mMusic\u001b[m\u001b[m/                                      \u001b[34mVirtualBox VMs\u001b[m\u001b[m/\r\n",
        "Algorithms Design and Analysis-HW1.ipynb    Kaggle_Titanic.ipynb                        Percolation.java                            \u001b[34mdjango-trunk\u001b[m\u001b[m/\r\n",
        "\u001b[34mApplications\u001b[m\u001b[m/                               \u001b[34mLibrary\u001b[m\u001b[m/                                    Percolation.java~                           genderbasedmodel.csv\r\n",
        "\u001b[34mDesktop\u001b[m\u001b[m/                                    ML_UBC_HW1.ipynb                            \u001b[34mPictures\u001b[m\u001b[m/                                   \u001b[34moctave\u001b[m\u001b[m/\r\n",
        "\u001b[34mDocuments\u001b[m\u001b[m/                                  MatchingAlgoTesting_v1.ipynb                \u001b[34mPublic\u001b[m\u001b[m/\r\n",
        "\u001b[34mDownloads\u001b[m\u001b[m/                                  \u001b[34mMovies\u001b[m\u001b[m/                                     \u001b[34mQSTK\u001b[m\u001b[m/\r\n"
       ]
      }
     ],
     "prompt_number": 5
    },
    {
     "cell_type": "code",
     "collapsed": false,
     "input": [
      "cd Design of Algos-Stanford/HW1"
     ],
     "language": "python",
     "metadata": {},
     "outputs": [
      {
       "output_type": "stream",
       "stream": "stdout",
       "text": [
        "[Errno 2] No such file or directory: 'Design of Algos-Stanford/HW1'\n",
        "/Users/tanujpandey\n"
       ]
      }
     ],
     "prompt_number": 3
    },
    {
     "cell_type": "code",
     "collapsed": false,
     "input": [
      "ls"
     ],
     "language": "python",
     "metadata": {},
     "outputs": [
      {
       "output_type": "stream",
       "stream": "stdout",
       "text": [
        "HW1.csv\r\n"
       ]
      }
     ],
     "prompt_number": 10
    },
    {
     "cell_type": "code",
     "collapsed": false,
     "input": [
      "import csv as csv \n",
      "import numpy as np\n",
      "\n",
      "csv_file_object = csv.reader(open('HW1.csv', 'rb'))\n"
     ],
     "language": "python",
     "metadata": {},
     "outputs": [
      {
       "ename": "IOError",
       "evalue": "[Errno 2] No such file or directory: 'HW1.csv'",
       "output_type": "pyerr",
       "traceback": [
        "\u001b[0;31m---------------------------------------------------------------------------\u001b[0m\n\u001b[0;31mIOError\u001b[0m                                   Traceback (most recent call last)",
        "\u001b[0;32m<ipython-input-1-1e9ec179bbe0>\u001b[0m in \u001b[0;36m<module>\u001b[0;34m()\u001b[0m\n\u001b[1;32m      2\u001b[0m \u001b[0;32mimport\u001b[0m \u001b[0mnumpy\u001b[0m \u001b[0;32mas\u001b[0m \u001b[0mnp\u001b[0m\u001b[0;34m\u001b[0m\u001b[0m\n\u001b[1;32m      3\u001b[0m \u001b[0;34m\u001b[0m\u001b[0m\n\u001b[0;32m----> 4\u001b[0;31m \u001b[0mcsv_file_object\u001b[0m \u001b[0;34m=\u001b[0m \u001b[0mcsv\u001b[0m\u001b[0;34m.\u001b[0m\u001b[0mreader\u001b[0m\u001b[0;34m(\u001b[0m\u001b[0mopen\u001b[0m\u001b[0;34m(\u001b[0m\u001b[0;34m'HW1.csv'\u001b[0m\u001b[0;34m,\u001b[0m \u001b[0;34m'rb'\u001b[0m\u001b[0;34m)\u001b[0m\u001b[0;34m)\u001b[0m\u001b[0;34m\u001b[0m\u001b[0m\n\u001b[0m",
        "\u001b[0;31mIOError\u001b[0m: [Errno 2] No such file or directory: 'HW1.csv'"
       ]
      }
     ],
     "prompt_number": 1
    },
    {
     "cell_type": "code",
     "collapsed": false,
     "input": [
      "with open('HW1.csv', 'rb') as f:\n",
      "    reader = csv.reader(f)\n",
      "    your_list = list(reader)"
     ],
     "language": "python",
     "metadata": {},
     "outputs": [
      {
       "ename": "IOError",
       "evalue": "[Errno 2] No such file or directory: 'HW1.csv'",
       "output_type": "pyerr",
       "traceback": [
        "\u001b[0;31m---------------------------------------------------------------------------\u001b[0m\n\u001b[0;31mIOError\u001b[0m                                   Traceback (most recent call last)",
        "\u001b[0;32m<ipython-input-2-d195cc7a3092>\u001b[0m in \u001b[0;36m<module>\u001b[0;34m()\u001b[0m\n\u001b[0;32m----> 1\u001b[0;31m \u001b[0;32mwith\u001b[0m \u001b[0mopen\u001b[0m\u001b[0;34m(\u001b[0m\u001b[0;34m'HW1.csv'\u001b[0m\u001b[0;34m,\u001b[0m \u001b[0;34m'rb'\u001b[0m\u001b[0;34m)\u001b[0m \u001b[0;32mas\u001b[0m \u001b[0mf\u001b[0m\u001b[0;34m:\u001b[0m\u001b[0;34m\u001b[0m\u001b[0m\n\u001b[0m\u001b[1;32m      2\u001b[0m     \u001b[0mreader\u001b[0m \u001b[0;34m=\u001b[0m \u001b[0mcsv\u001b[0m\u001b[0;34m.\u001b[0m\u001b[0mreader\u001b[0m\u001b[0;34m(\u001b[0m\u001b[0mf\u001b[0m\u001b[0;34m)\u001b[0m\u001b[0;34m\u001b[0m\u001b[0m\n\u001b[1;32m      3\u001b[0m     \u001b[0myour_list\u001b[0m \u001b[0;34m=\u001b[0m \u001b[0mlist\u001b[0m\u001b[0;34m(\u001b[0m\u001b[0mreader\u001b[0m\u001b[0;34m)\u001b[0m\u001b[0;34m\u001b[0m\u001b[0m\n",
        "\u001b[0;31mIOError\u001b[0m: [Errno 2] No such file or directory: 'HW1.csv'"
       ]
      }
     ],
     "prompt_number": 2
    },
    {
     "cell_type": "code",
     "collapsed": false,
     "input": [
      "data = []\n",
      "for row in csv_file_object:\n",
      "    data.append(row)\n",
      "\n",
      "data = np.array(data)    "
     ],
     "language": "python",
     "metadata": {},
     "outputs": [],
     "prompt_number": 55
    },
    {
     "cell_type": "code",
     "collapsed": false,
     "input": [
      "len(data)\n",
      "lst = []\n",
      "for i in range(len(data)):\n",
      "    lst.append(data[i][0].astype(np.int))"
     ],
     "language": "python",
     "metadata": {},
     "outputs": [],
     "prompt_number": 61
    },
    {
     "cell_type": "code",
     "collapsed": false,
     "input": [
      "x = [lst]"
     ],
     "language": "python",
     "metadata": {},
     "outputs": [
      {
       "ename": "NameError",
       "evalue": "name 'lst' is not defined",
       "output_type": "pyerr",
       "traceback": [
        "\u001b[0;31m---------------------------------------------------------------------------\u001b[0m\n\u001b[0;31mNameError\u001b[0m                                 Traceback (most recent call last)",
        "\u001b[0;32m<ipython-input-6-7f466ef4d9d1>\u001b[0m in \u001b[0;36m<module>\u001b[0;34m()\u001b[0m\n\u001b[0;32m----> 1\u001b[0;31m \u001b[0mx\u001b[0m \u001b[0;34m=\u001b[0m \u001b[0;34m[\u001b[0m\u001b[0mlst\u001b[0m\u001b[0;34m]\u001b[0m\u001b[0;34m\u001b[0m\u001b[0m\n\u001b[0m",
        "\u001b[0;31mNameError\u001b[0m: name 'lst' is not defined"
       ]
      }
     ],
     "prompt_number": 6
    },
    {
     "cell_type": "code",
     "collapsed": false,
     "input": [
      "a = mergesort(x)"
     ],
     "language": "python",
     "metadata": {},
     "outputs": [],
     "prompt_number": 65
    },
    {
     "cell_type": "code",
     "collapsed": false,
     "input": [
      "a[1]"
     ],
     "language": "python",
     "metadata": {},
     "outputs": [
      {
       "metadata": {},
       "output_type": "pyout",
       "prompt_number": 66,
       "text": [
        "2407905288"
       ]
      }
     ],
     "prompt_number": 66
    },
    {
     "cell_type": "code",
     "collapsed": false,
     "input": [
      "(df)"
     ],
     "language": "python",
     "metadata": {},
     "outputs": [
      {
       "ename": "NameError",
       "evalue": "name 'df' is not defined",
       "output_type": "pyerr",
       "traceback": [
        "\u001b[0;31m---------------------------------------------------------------------------\u001b[0m\n\u001b[0;31mNameError\u001b[0m                                 Traceback (most recent call last)",
        "\u001b[0;32m<ipython-input-5-8a2e79af2d89>\u001b[0m in \u001b[0;36m<module>\u001b[0;34m()\u001b[0m\n\u001b[0;32m----> 1\u001b[0;31m \u001b[0;34m(\u001b[0m\u001b[0mdf\u001b[0m\u001b[0;34m)\u001b[0m\u001b[0;34m\u001b[0m\u001b[0m\n\u001b[0m",
        "\u001b[0;31mNameError\u001b[0m: name 'df' is not defined"
       ]
      }
     ],
     "prompt_number": 5
    },
    {
     "cell_type": "code",
     "collapsed": false,
     "input": [
      "len(dat)"
     ],
     "language": "python",
     "metadata": {},
     "outputs": [
      {
       "metadata": {},
       "output_type": "pyout",
       "prompt_number": 40,
       "text": [
        "99999"
       ]
      }
     ],
     "prompt_number": 40
    },
    {
     "cell_type": "code",
     "collapsed": false,
     "input": [
      "pwd"
     ],
     "language": "python",
     "metadata": {},
     "outputs": [
      {
       "metadata": {},
       "output_type": "pyout",
       "prompt_number": 6,
       "text": [
        "u'/Users/tanujpandey'"
       ]
      }
     ],
     "prompt_number": 6
    },
    {
     "cell_type": "code",
     "collapsed": false,
     "input": [
      "cd Desktop/Tanuj/Coursera/Design of Algos-Stanford/HW6/Problem2"
     ],
     "language": "python",
     "metadata": {},
     "outputs": [
      {
       "output_type": "stream",
       "stream": "stdout",
       "text": [
        "/Users/tanujpandey/Desktop/Tanuj/Coursera/Design of Algos-Stanford/HW6/Problem2\n"
       ]
      }
     ],
     "prompt_number": 7
    },
    {
     "cell_type": "code",
     "collapsed": false,
     "input": [
      "cd .."
     ],
     "language": "python",
     "metadata": {},
     "outputs": [
      {
       "output_type": "stream",
       "stream": "stdout",
       "text": [
        "/Users/tanujpandey/Desktop/Tanuj/Coursera/Design of Algos-Stanford/HW6\n"
       ]
      }
     ],
     "prompt_number": 8
    },
    {
     "cell_type": "code",
     "collapsed": false,
     "input": [
      "cd Problem1"
     ],
     "language": "python",
     "metadata": {},
     "outputs": [
      {
       "output_type": "stream",
       "stream": "stdout",
       "text": [
        "/Users/tanujpandey/Desktop/Tanuj/Coursera/Design of Algos-Stanford/HW6/Problem1\n"
       ]
      }
     ],
     "prompt_number": 9
    },
    {
     "cell_type": "code",
     "collapsed": false,
     "input": [
      "import numpy as np\n",
      "import csv as csv\n",
      "\n",
      "csv_file_object = csv.reader(open('algo1-programming_prob-2sum.txt', 'rb'))"
     ],
     "language": "python",
     "metadata": {},
     "outputs": [],
     "prompt_number": 10
    },
    {
     "cell_type": "code",
     "collapsed": false,
     "input": [
      "data = []\n",
      "for row in csv_file_object:\n",
      "    data.append(row)\n",
      "\n",
      "new_G = []\n",
      "for elem in data:\n",
      "    for i in range(len(elem)):\n",
      "        new_G.append(int(elem[i]))"
     ],
     "language": "python",
     "metadata": {},
     "outputs": [],
     "prompt_number": 11
    },
    {
     "cell_type": "code",
     "collapsed": false,
     "input": [
      "size(new_G)"
     ],
     "language": "python",
     "metadata": {},
     "outputs": [
      {
       "metadata": {},
       "output_type": "pyout",
       "prompt_number": 19,
       "text": [
        "1000000"
       ]
      }
     ],
     "prompt_number": 19
    },
    {
     "cell_type": "code",
     "collapsed": false,
     "input": [
      "new_data = mergesort([new_G])"
     ],
     "language": "python",
     "metadata": {},
     "outputs": [],
     "prompt_number": 20
    },
    {
     "cell_type": "code",
     "collapsed": false,
     "input": [
      "size(new_data[2])"
     ],
     "language": "python",
     "metadata": {},
     "outputs": [
      {
       "ename": "IndexError",
       "evalue": "list index out of range",
       "output_type": "pyerr",
       "traceback": [
        "\u001b[0;31m---------------------------------------------------------------------------\u001b[0m\n\u001b[0;31mIndexError\u001b[0m                                Traceback (most recent call last)",
        "\u001b[0;32m<ipython-input-24-6c67dce0bb5a>\u001b[0m in \u001b[0;36m<module>\u001b[0;34m()\u001b[0m\n\u001b[0;32m----> 1\u001b[0;31m \u001b[0msize\u001b[0m\u001b[0;34m(\u001b[0m\u001b[0mnew_data\u001b[0m\u001b[0;34m[\u001b[0m\u001b[0;36m2\u001b[0m\u001b[0;34m]\u001b[0m\u001b[0;34m)\u001b[0m\u001b[0;34m\u001b[0m\u001b[0m\n\u001b[0m",
        "\u001b[0;31mIndexError\u001b[0m: list index out of range"
       ]
      }
     ],
     "prompt_number": 24
    },
    {
     "cell_type": "code",
     "collapsed": false,
     "input": [
      "sorted_data = new_data[0]\n",
      "size(new_data[1])"
     ],
     "language": "python",
     "metadata": {},
     "outputs": [
      {
       "metadata": {},
       "output_type": "pyout",
       "prompt_number": 17,
       "text": [
        "1"
       ]
      }
     ],
     "prompt_number": 17
    },
    {
     "cell_type": "code",
     "collapsed": false,
     "input": [],
     "language": "python",
     "metadata": {},
     "outputs": []
    }
   ],
   "metadata": {}
  }
 ]
}