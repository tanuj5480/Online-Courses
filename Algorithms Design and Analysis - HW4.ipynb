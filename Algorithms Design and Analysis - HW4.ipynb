{
 "metadata": {
  "name": "",
  "signature": "sha256:7326d09efb3afad3ecb768d7ac94bbcebdaaba383fcf58050b5294dd03747db8"
 },
 "nbformat": 3,
 "nbformat_minor": 0,
 "worksheets": [
  {
   "cells": [
    {
     "cell_type": "code",
     "collapsed": false,
     "input": [
      "def adjacentEdges(Graph, vertex):\n",
      "    listOfEdges = []\n",
      "    for elem in Graph:\n",
      "        if elem[0] == vertex:\n",
      "            listOfEdges.append(elem[1])\n",
      "            \n",
      "    return listOfEdges"
     ],
     "language": "python",
     "metadata": {},
     "outputs": [],
     "prompt_number": 228
    },
    {
     "cell_type": "code",
     "collapsed": false,
     "input": [
      "class Stack:\n",
      "     def __init__(self):\n",
      "         self.items = []\n",
      "\n",
      "     def isEmpty(self):\n",
      "         return self.items == []\n",
      "\n",
      "     def push(self, item):\n",
      "         self.items.append(item)\n",
      "\n",
      "     def pop(self):\n",
      "         return self.items.pop()\n",
      "\n",
      "     def peek(self):\n",
      "         return self.items[len(self.items)-1]\n",
      "\n",
      "     def size(self):\n",
      "         return len(self.items)"
     ],
     "language": "python",
     "metadata": {},
     "outputs": [],
     "prompt_number": 44
    },
    {
     "cell_type": "code",
     "collapsed": false,
     "input": [
      "def DFS_loop(G):\n",
      "    \n",
      "    global discovered\n",
      "    global vertices\n",
      "    global current_label\n",
      "    global f \n",
      "    global s, leader\n",
      "\n",
      "    n=875714\n",
      "    discovered = [0]*n\n",
      "    f = [0]*n\n",
      "    leader = [0]*n\n",
      "    vertices = range(n+1)[1::1]\n",
      "    current_label = 0\n",
      "\n",
      "    for i in range(n, 0, -1):\n",
      "        if discovered[vertices.index(i)] == 0:\n",
      "            s = i\n",
      "            dfs(G,i)\n",
      "            \n",
      "    return f, leader"
     ],
     "language": "python",
     "metadata": {},
     "outputs": [],
     "prompt_number": 586
    },
    {
     "cell_type": "code",
     "collapsed": false,
     "input": [
      "def dfs(G, v):\n",
      "    global discovered\n",
      "    global vertices\n",
      "    global current_label\n",
      "    global f \n",
      "    global s, leader\n",
      "    \n",
      "    discovered[vertices.index(v)] = 1\n",
      "    leader[vertices.index(v)] = s\n",
      "    for elem in adjacentEdges(G, v):\n",
      "        if discovered[vertices.index(elem)] == 0:\n",
      "            dfs(G,elem)\n",
      "            \n",
      "    current_label = current_label + 1\n",
      "    f[vertices.index(v)] = current_label\n",
      "    \n",
      "\n",
      "    #return f"
     ],
     "language": "python",
     "metadata": {},
     "outputs": [],
     "prompt_number": 453
    },
    {
     "cell_type": "code",
     "collapsed": false,
     "input": [
      "G = [[1, 2],\n",
      "[2, 3],\n",
      "[2, 4],\n",
      "[2, 5],\n",
      "[3, 6],\n",
      "[4, 5],\n",
      "[4, 7],\n",
      "[5, 2],\n",
      "[5, 6],\n",
      "[5, 7],\n",
      "[6, 3],\n",
      "[6, 8],\n",
      "[7, 8],\n",
      "[7, 10],\n",
      "[8, 7],\n",
      "[9 ,7],\n",
      "[10, 9],\n",
      "[10, 11],\n",
      "[11, 12],\n",
      "[12, 10]]"
     ],
     "language": "python",
     "metadata": {},
     "outputs": [],
     "prompt_number": 545
    },
    {
     "cell_type": "code",
     "collapsed": false,
     "input": [
      "# creating the reverse Graph\n",
      "G_rev = []\n",
      "\n",
      "for elem in final:\n",
      "    G_rev.append([elem[1],elem[0]])"
     ],
     "language": "python",
     "metadata": {},
     "outputs": [],
     "prompt_number": 587
    },
    {
     "cell_type": "code",
     "collapsed": false,
     "input": [
      "finising_times, leader = DFS_loop(G_rev)"
     ],
     "language": "python",
     "metadata": {},
     "outputs": []
    },
    {
     "cell_type": "code",
     "collapsed": false,
     "input": [
      "new_G = []\n",
      "for elem in final:\n",
      "    for i in vertices:\n",
      "        if elem[0] == i:\n",
      "            x = finising_times[vertices.index(i)]\n",
      "    \n",
      "    for i in vertices:\n",
      "        if elem[1] == i:\n",
      "            y = finising_times[vertices.index(i)]\n",
      "\n",
      "    new_G.append([x,y])"
     ],
     "language": "python",
     "metadata": {},
     "outputs": [],
     "prompt_number": 550
    },
    {
     "cell_type": "code",
     "collapsed": false,
     "input": [
      "finising_times2, leader2 = DFS_loop(new_G)"
     ],
     "language": "python",
     "metadata": {},
     "outputs": [],
     "prompt_number": 551
    },
    {
     "cell_type": "code",
     "collapsed": false,
     "input": [
      "leader2"
     ],
     "language": "python",
     "metadata": {},
     "outputs": [
      {
       "metadata": {},
       "output_type": "pyout",
       "prompt_number": 552,
       "text": [
        "[1, 4, 4, 4, 6, 6, 12, 12, 12, 12, 12, 12]"
       ]
      }
     ],
     "prompt_number": 552
    },
    {
     "cell_type": "code",
     "collapsed": false,
     "input": [
      "import collections\n",
      "counter=collections.Counter(leader2)\n",
      "print counter"
     ],
     "language": "python",
     "metadata": {},
     "outputs": [
      {
       "output_type": "stream",
       "stream": "stdout",
       "text": [
        "Counter({12: 6, 4: 3, 6: 2, 1: 1})\n"
       ]
      }
     ],
     "prompt_number": 553
    },
    {
     "cell_type": "code",
     "collapsed": false,
     "input": [
      "cd Desktop/Tanuj/Coursera/Design of Algos-Stanford/HW4"
     ],
     "language": "python",
     "metadata": {},
     "outputs": [
      {
       "output_type": "stream",
       "stream": "stdout",
       "text": [
        "/Users/tanujpandey/Desktop/Tanuj/Coursera/Design of Algos-Stanford/HW4\n"
       ]
      }
     ],
     "prompt_number": 555
    },
    {
     "cell_type": "code",
     "collapsed": false,
     "input": [
      "import csv as csv\n",
      "import numpy as np\n",
      "\n",
      "csv_file_object = csv.reader(open('SCC.txt', 'rb'), delimiter='\\t')\n"
     ],
     "language": "python",
     "metadata": {},
     "outputs": [],
     "prompt_number": 556
    },
    {
     "cell_type": "code",
     "collapsed": false,
     "input": [
      "data = []\n",
      "\n",
      "for row in csv_file_object:\n",
      "    data.append((row))\n"
     ],
     "language": "python",
     "metadata": {},
     "outputs": [],
     "prompt_number": 557
    },
    {
     "cell_type": "code",
     "collapsed": false,
     "input": [
      "result = []\n",
      "for row in data:\n",
      "    for a in row:\n",
      "        textnew = a.split(\" \")\n",
      "        result.append(textnew)\n"
     ],
     "language": "python",
     "metadata": {},
     "outputs": [],
     "prompt_number": 579
    },
    {
     "cell_type": "code",
     "collapsed": false,
     "input": [
      "new_final = []\n",
      "for elem in result:\n",
      "    new_final.append(elem[:(len(elem)-1)])"
     ],
     "language": "python",
     "metadata": {},
     "outputs": [],
     "prompt_number": 581
    },
    {
     "cell_type": "code",
     "collapsed": false,
     "input": [
      "final = []\n",
      "final = [[int(i) for i in row] for row in new_final]"
     ],
     "language": "python",
     "metadata": {},
     "outputs": [],
     "prompt_number": 583
    },
    {
     "cell_type": "code",
     "collapsed": false,
     "input": [
      "len(final)"
     ],
     "language": "python",
     "metadata": {},
     "outputs": [
      {
       "metadata": {},
       "output_type": "pyout",
       "prompt_number": 585,
       "text": [
        "5105043"
       ]
      }
     ],
     "prompt_number": 585
    },
    {
     "cell_type": "code",
     "collapsed": false,
     "input": [],
     "language": "python",
     "metadata": {},
     "outputs": [],
     "prompt_number": 591
    },
    {
     "cell_type": "code",
     "collapsed": false,
     "input": [],
     "language": "python",
     "metadata": {},
     "outputs": []
    }
   ],
   "metadata": {}
  }
 ]
}